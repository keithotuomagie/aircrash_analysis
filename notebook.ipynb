{
 "cells": [
  {
   "cell_type": "markdown",
   "metadata": {},
   "source": [
    "# Final Project Submission\n",
    "\n",
    "Please fill out:\n",
    "* Student name: Keith Byron Otuomagie\n",
    "* Student pace: self paced\n",
    "* Scheduled project review date/time: Friday, August 16th, 2024 / 10:00 AM (EST)\n",
    "* Instructor name: Mark Barbour\n",
    "* Blog post URL: https://medium.com/@otuomagie/beginnings-in-data-science-3a0718647be4"
   ]
  },
  {
   "cell_type": "markdown",
   "metadata": {},
   "source": [
    "# Business Problem\n",
    "\n",
    "Your company is expanding in to new industries to diversify its portfolio. Specifically, they are interested in purchasing and operating airplanes for commercial and private enterprises, but do not know anything about the potential risks of aircraft. You are charged with determining which aircraft are the lowest risk for the company to start this new business endeavor. You must then translate your findings into actionable insights that the head of the new aviation division can use to help decide which aircraft to purchase.\n"
   ]
  },
  {
   "cell_type": "markdown",
   "metadata": {},
   "source": [
    "## Data Source, Data Analysis, and Recommendations\n",
    "\n",
    "The data for the solving the business problem comes from the National Transportation Safety Board (NTSB).  It includes aviation data from 1962 to 2023.\n",
    "\n",
    "I obtained the NTSB data from the following link - https://www.kaggle.com/datasets/khsamaha/aviation-accident-database-synopses\n",
    "\n",
    "I set out to solve the business problem by providing the following three recommendations:\n",
    "\n",
    "1. Aircraft Manufacturers that should be considered for purchase based upon Fatalities per Aircraft Manufacturer Accident Record\n",
    "\n",
    "2. Aircraft Manufacturers that should be considered for purchase based upon Major Injuries per Aircraft Manufacturer Accident Record\n",
    "\n",
    "3. Aircraft Manufacturers that should be considered for purchase based upon Minor Injuries per Aircraft Manufacturer Accident Record"
   ]
  },
  {
   "cell_type": "code",
   "execution_count": 1,
   "metadata": {},
   "outputs": [],
   "source": [
    "# I importing the Python librarires I believe I will need to perform the Phase 1 project\n",
    "import pandas as pd\n",
    "import matplotlib.pyplot as plt\n",
    "%matplotlib inline"
   ]
  },
  {
   "cell_type": "code",
   "execution_count": 2,
   "metadata": {},
   "outputs": [],
   "source": [
    "# Reading the csv file into a Pandas Dataframe\n",
    "# THe following code - encoding='latin-1' - is utilized because the file specified coding is not 'utf-8'. The codding is \"latin-1\".\n",
    "# The following code - dtype={'Latitude': str, 'Longitude': str, 'Broad.phase.of.flight': str}) - is utilized becuase there are columns - namely, Column 6, that has both strings and numbers.  The code converts all of the data in Column 6 to string type\n",
    "\n",
    "df = pd.read_csv(\"AviationData.csv\", encoding='latin-1', dtype={'Latitude': str, 'Longitude': str, 'Broad.phase.of.flight': str})"
   ]
  },
  {
   "cell_type": "markdown",
   "metadata": {},
   "source": [
    "## Exploratory Data Analysis\n",
    "\n",
    "When I work in pandas, I like to being running exploratory data analysis to become familiar with the dataframe.  I want to understand some of the following attributes:\n",
    "\n",
    "1. Number of columns\n",
    "2. Number of rows\n",
    "3. Columns Names\n",
    "4. Type of Data within the Columns"
   ]
  },
  {
   "cell_type": "code",
   "execution_count": 3,
   "metadata": {},
   "outputs": [
    {
     "name": "stdout",
     "output_type": "stream",
     "text": [
      "<class 'pandas.core.frame.DataFrame'>\n",
      "RangeIndex: 88889 entries, 0 to 88888\n",
      "Data columns (total 31 columns):\n",
      " #   Column                  Non-Null Count  Dtype  \n",
      "---  ------                  --------------  -----  \n",
      " 0   Event.Id                88889 non-null  object \n",
      " 1   Investigation.Type      88889 non-null  object \n",
      " 2   Accident.Number         88889 non-null  object \n",
      " 3   Event.Date              88889 non-null  object \n",
      " 4   Location                88837 non-null  object \n",
      " 5   Country                 88663 non-null  object \n",
      " 6   Latitude                34382 non-null  object \n",
      " 7   Longitude               34373 non-null  object \n",
      " 8   Airport.Code            50249 non-null  object \n",
      " 9   Airport.Name            52790 non-null  object \n",
      " 10  Injury.Severity         87889 non-null  object \n",
      " 11  Aircraft.damage         85695 non-null  object \n",
      " 12  Aircraft.Category       32287 non-null  object \n",
      " 13  Registration.Number     87572 non-null  object \n",
      " 14  Make                    88826 non-null  object \n",
      " 15  Model                   88797 non-null  object \n",
      " 16  Amateur.Built           88787 non-null  object \n",
      " 17  Number.of.Engines       82805 non-null  float64\n",
      " 18  Engine.Type             81812 non-null  object \n",
      " 19  FAR.Description         32023 non-null  object \n",
      " 20  Schedule                12582 non-null  object \n",
      " 21  Purpose.of.flight       82697 non-null  object \n",
      " 22  Air.carrier             16648 non-null  object \n",
      " 23  Total.Fatal.Injuries    77488 non-null  float64\n",
      " 24  Total.Serious.Injuries  76379 non-null  float64\n",
      " 25  Total.Minor.Injuries    76956 non-null  float64\n",
      " 26  Total.Uninjured         82977 non-null  float64\n",
      " 27  Weather.Condition       84397 non-null  object \n",
      " 28  Broad.phase.of.flight   61724 non-null  object \n",
      " 29  Report.Status           82508 non-null  object \n",
      " 30  Publication.Date        75118 non-null  object \n",
      "dtypes: float64(5), object(26)\n",
      "memory usage: 21.0+ MB\n"
     ]
    }
   ],
   "source": [
    "df.info()"
   ]
  },
  {
   "cell_type": "code",
   "execution_count": 4,
   "metadata": {},
   "outputs": [
    {
     "data": {
      "text/html": [
       "<div>\n",
       "<style scoped>\n",
       "    .dataframe tbody tr th:only-of-type {\n",
       "        vertical-align: middle;\n",
       "    }\n",
       "\n",
       "    .dataframe tbody tr th {\n",
       "        vertical-align: top;\n",
       "    }\n",
       "\n",
       "    .dataframe thead th {\n",
       "        text-align: right;\n",
       "    }\n",
       "</style>\n",
       "<table border=\"1\" class=\"dataframe\">\n",
       "  <thead>\n",
       "    <tr style=\"text-align: right;\">\n",
       "      <th></th>\n",
       "      <th>Event.Id</th>\n",
       "      <th>Investigation.Type</th>\n",
       "      <th>Accident.Number</th>\n",
       "      <th>Event.Date</th>\n",
       "      <th>Location</th>\n",
       "      <th>Country</th>\n",
       "      <th>Latitude</th>\n",
       "      <th>Longitude</th>\n",
       "      <th>Airport.Code</th>\n",
       "      <th>Airport.Name</th>\n",
       "      <th>...</th>\n",
       "      <th>Purpose.of.flight</th>\n",
       "      <th>Air.carrier</th>\n",
       "      <th>Total.Fatal.Injuries</th>\n",
       "      <th>Total.Serious.Injuries</th>\n",
       "      <th>Total.Minor.Injuries</th>\n",
       "      <th>Total.Uninjured</th>\n",
       "      <th>Weather.Condition</th>\n",
       "      <th>Broad.phase.of.flight</th>\n",
       "      <th>Report.Status</th>\n",
       "      <th>Publication.Date</th>\n",
       "    </tr>\n",
       "  </thead>\n",
       "  <tbody>\n",
       "    <tr>\n",
       "      <th>0</th>\n",
       "      <td>20001218X45444</td>\n",
       "      <td>Accident</td>\n",
       "      <td>SEA87LA080</td>\n",
       "      <td>10/24/1948</td>\n",
       "      <td>MOOSE CREEK, ID</td>\n",
       "      <td>United States</td>\n",
       "      <td>NaN</td>\n",
       "      <td>NaN</td>\n",
       "      <td>NaN</td>\n",
       "      <td>NaN</td>\n",
       "      <td>...</td>\n",
       "      <td>Personal</td>\n",
       "      <td>NaN</td>\n",
       "      <td>2.0</td>\n",
       "      <td>0.0</td>\n",
       "      <td>0.0</td>\n",
       "      <td>0.0</td>\n",
       "      <td>UNK</td>\n",
       "      <td>Cruise</td>\n",
       "      <td>Probable Cause</td>\n",
       "      <td>NaN</td>\n",
       "    </tr>\n",
       "    <tr>\n",
       "      <th>1</th>\n",
       "      <td>20001218X45447</td>\n",
       "      <td>Accident</td>\n",
       "      <td>LAX94LA336</td>\n",
       "      <td>7/19/1962</td>\n",
       "      <td>BRIDGEPORT, CA</td>\n",
       "      <td>United States</td>\n",
       "      <td>NaN</td>\n",
       "      <td>NaN</td>\n",
       "      <td>NaN</td>\n",
       "      <td>NaN</td>\n",
       "      <td>...</td>\n",
       "      <td>Personal</td>\n",
       "      <td>NaN</td>\n",
       "      <td>4.0</td>\n",
       "      <td>0.0</td>\n",
       "      <td>0.0</td>\n",
       "      <td>0.0</td>\n",
       "      <td>UNK</td>\n",
       "      <td>Unknown</td>\n",
       "      <td>Probable Cause</td>\n",
       "      <td>19-09-1996</td>\n",
       "    </tr>\n",
       "    <tr>\n",
       "      <th>2</th>\n",
       "      <td>20061025X01555</td>\n",
       "      <td>Accident</td>\n",
       "      <td>NYC07LA005</td>\n",
       "      <td>8/30/1974</td>\n",
       "      <td>Saltville, VA</td>\n",
       "      <td>United States</td>\n",
       "      <td>36.922223</td>\n",
       "      <td>-81.878056</td>\n",
       "      <td>NaN</td>\n",
       "      <td>NaN</td>\n",
       "      <td>...</td>\n",
       "      <td>Personal</td>\n",
       "      <td>NaN</td>\n",
       "      <td>3.0</td>\n",
       "      <td>NaN</td>\n",
       "      <td>NaN</td>\n",
       "      <td>NaN</td>\n",
       "      <td>IMC</td>\n",
       "      <td>Cruise</td>\n",
       "      <td>Probable Cause</td>\n",
       "      <td>26-02-2007</td>\n",
       "    </tr>\n",
       "    <tr>\n",
       "      <th>3</th>\n",
       "      <td>20001218X45448</td>\n",
       "      <td>Accident</td>\n",
       "      <td>LAX96LA321</td>\n",
       "      <td>6/19/1977</td>\n",
       "      <td>EUREKA, CA</td>\n",
       "      <td>United States</td>\n",
       "      <td>NaN</td>\n",
       "      <td>NaN</td>\n",
       "      <td>NaN</td>\n",
       "      <td>NaN</td>\n",
       "      <td>...</td>\n",
       "      <td>Personal</td>\n",
       "      <td>NaN</td>\n",
       "      <td>2.0</td>\n",
       "      <td>0.0</td>\n",
       "      <td>0.0</td>\n",
       "      <td>0.0</td>\n",
       "      <td>IMC</td>\n",
       "      <td>Cruise</td>\n",
       "      <td>Probable Cause</td>\n",
       "      <td>12/9/2000</td>\n",
       "    </tr>\n",
       "    <tr>\n",
       "      <th>4</th>\n",
       "      <td>20041105X01764</td>\n",
       "      <td>Accident</td>\n",
       "      <td>CHI79FA064</td>\n",
       "      <td>8/2/1979</td>\n",
       "      <td>Canton, OH</td>\n",
       "      <td>United States</td>\n",
       "      <td>NaN</td>\n",
       "      <td>NaN</td>\n",
       "      <td>NaN</td>\n",
       "      <td>NaN</td>\n",
       "      <td>...</td>\n",
       "      <td>Personal</td>\n",
       "      <td>NaN</td>\n",
       "      <td>1.0</td>\n",
       "      <td>2.0</td>\n",
       "      <td>NaN</td>\n",
       "      <td>0.0</td>\n",
       "      <td>VMC</td>\n",
       "      <td>Approach</td>\n",
       "      <td>Probable Cause</td>\n",
       "      <td>16-04-1980</td>\n",
       "    </tr>\n",
       "  </tbody>\n",
       "</table>\n",
       "<p>5 rows × 31 columns</p>\n",
       "</div>"
      ],
      "text/plain": [
       "         Event.Id Investigation.Type Accident.Number  Event.Date  \\\n",
       "0  20001218X45444           Accident      SEA87LA080  10/24/1948   \n",
       "1  20001218X45447           Accident      LAX94LA336   7/19/1962   \n",
       "2  20061025X01555           Accident      NYC07LA005   8/30/1974   \n",
       "3  20001218X45448           Accident      LAX96LA321   6/19/1977   \n",
       "4  20041105X01764           Accident      CHI79FA064    8/2/1979   \n",
       "\n",
       "          Location        Country   Latitude   Longitude Airport.Code  \\\n",
       "0  MOOSE CREEK, ID  United States        NaN         NaN          NaN   \n",
       "1   BRIDGEPORT, CA  United States        NaN         NaN          NaN   \n",
       "2    Saltville, VA  United States  36.922223  -81.878056          NaN   \n",
       "3       EUREKA, CA  United States        NaN         NaN          NaN   \n",
       "4       Canton, OH  United States        NaN         NaN          NaN   \n",
       "\n",
       "  Airport.Name  ... Purpose.of.flight Air.carrier Total.Fatal.Injuries  \\\n",
       "0          NaN  ...          Personal         NaN                  2.0   \n",
       "1          NaN  ...          Personal         NaN                  4.0   \n",
       "2          NaN  ...          Personal         NaN                  3.0   \n",
       "3          NaN  ...          Personal         NaN                  2.0   \n",
       "4          NaN  ...          Personal         NaN                  1.0   \n",
       "\n",
       "  Total.Serious.Injuries Total.Minor.Injuries Total.Uninjured  \\\n",
       "0                    0.0                  0.0             0.0   \n",
       "1                    0.0                  0.0             0.0   \n",
       "2                    NaN                  NaN             NaN   \n",
       "3                    0.0                  0.0             0.0   \n",
       "4                    2.0                  NaN             0.0   \n",
       "\n",
       "  Weather.Condition  Broad.phase.of.flight   Report.Status Publication.Date  \n",
       "0               UNK                 Cruise  Probable Cause              NaN  \n",
       "1               UNK                Unknown  Probable Cause       19-09-1996  \n",
       "2               IMC                 Cruise  Probable Cause       26-02-2007  \n",
       "3               IMC                 Cruise  Probable Cause        12/9/2000  \n",
       "4               VMC               Approach  Probable Cause       16-04-1980  \n",
       "\n",
       "[5 rows x 31 columns]"
      ]
     },
     "execution_count": 4,
     "metadata": {},
     "output_type": "execute_result"
    }
   ],
   "source": [
    "# Looking at the first five columns of the pandas dataframe\n",
    "df.head()"
   ]
  },
  {
   "cell_type": "code",
   "execution_count": 5,
   "metadata": {},
   "outputs": [
    {
     "data": {
      "text/html": [
       "<div>\n",
       "<style scoped>\n",
       "    .dataframe tbody tr th:only-of-type {\n",
       "        vertical-align: middle;\n",
       "    }\n",
       "\n",
       "    .dataframe tbody tr th {\n",
       "        vertical-align: top;\n",
       "    }\n",
       "\n",
       "    .dataframe thead th {\n",
       "        text-align: right;\n",
       "    }\n",
       "</style>\n",
       "<table border=\"1\" class=\"dataframe\">\n",
       "  <thead>\n",
       "    <tr style=\"text-align: right;\">\n",
       "      <th></th>\n",
       "      <th>Event.Id</th>\n",
       "      <th>Investigation.Type</th>\n",
       "      <th>Accident.Number</th>\n",
       "      <th>Event.Date</th>\n",
       "      <th>Location</th>\n",
       "      <th>Country</th>\n",
       "      <th>Latitude</th>\n",
       "      <th>Longitude</th>\n",
       "      <th>Airport.Code</th>\n",
       "      <th>Airport.Name</th>\n",
       "      <th>...</th>\n",
       "      <th>Purpose.of.flight</th>\n",
       "      <th>Air.carrier</th>\n",
       "      <th>Total.Fatal.Injuries</th>\n",
       "      <th>Total.Serious.Injuries</th>\n",
       "      <th>Total.Minor.Injuries</th>\n",
       "      <th>Total.Uninjured</th>\n",
       "      <th>Weather.Condition</th>\n",
       "      <th>Broad.phase.of.flight</th>\n",
       "      <th>Report.Status</th>\n",
       "      <th>Publication.Date</th>\n",
       "    </tr>\n",
       "  </thead>\n",
       "  <tbody>\n",
       "    <tr>\n",
       "      <th>88884</th>\n",
       "      <td>2.02212E+13</td>\n",
       "      <td>Accident</td>\n",
       "      <td>ERA23LA093</td>\n",
       "      <td>12/26/2022</td>\n",
       "      <td>Annapolis, MD</td>\n",
       "      <td>United States</td>\n",
       "      <td>NaN</td>\n",
       "      <td>NaN</td>\n",
       "      <td>NaN</td>\n",
       "      <td>NaN</td>\n",
       "      <td>...</td>\n",
       "      <td>Personal</td>\n",
       "      <td>NaN</td>\n",
       "      <td>0.0</td>\n",
       "      <td>1.0</td>\n",
       "      <td>0.0</td>\n",
       "      <td>0.0</td>\n",
       "      <td>NaN</td>\n",
       "      <td>NaN</td>\n",
       "      <td>NaN</td>\n",
       "      <td>29-12-2022</td>\n",
       "    </tr>\n",
       "    <tr>\n",
       "      <th>88885</th>\n",
       "      <td>2.02212E+13</td>\n",
       "      <td>Accident</td>\n",
       "      <td>ERA23LA095</td>\n",
       "      <td>12/26/2022</td>\n",
       "      <td>Hampton, NH</td>\n",
       "      <td>United States</td>\n",
       "      <td>NaN</td>\n",
       "      <td>NaN</td>\n",
       "      <td>NaN</td>\n",
       "      <td>NaN</td>\n",
       "      <td>...</td>\n",
       "      <td>NaN</td>\n",
       "      <td>NaN</td>\n",
       "      <td>0.0</td>\n",
       "      <td>0.0</td>\n",
       "      <td>0.0</td>\n",
       "      <td>0.0</td>\n",
       "      <td>NaN</td>\n",
       "      <td>NaN</td>\n",
       "      <td>NaN</td>\n",
       "      <td>NaN</td>\n",
       "    </tr>\n",
       "    <tr>\n",
       "      <th>88886</th>\n",
       "      <td>2.02212E+13</td>\n",
       "      <td>Accident</td>\n",
       "      <td>WPR23LA075</td>\n",
       "      <td>12/26/2022</td>\n",
       "      <td>Payson, AZ</td>\n",
       "      <td>United States</td>\n",
       "      <td>341525N</td>\n",
       "      <td>1112021W</td>\n",
       "      <td>PAN</td>\n",
       "      <td>PAYSON</td>\n",
       "      <td>...</td>\n",
       "      <td>Personal</td>\n",
       "      <td>NaN</td>\n",
       "      <td>0.0</td>\n",
       "      <td>0.0</td>\n",
       "      <td>0.0</td>\n",
       "      <td>1.0</td>\n",
       "      <td>VMC</td>\n",
       "      <td>NaN</td>\n",
       "      <td>NaN</td>\n",
       "      <td>27-12-2022</td>\n",
       "    </tr>\n",
       "    <tr>\n",
       "      <th>88887</th>\n",
       "      <td>2.02212E+13</td>\n",
       "      <td>Accident</td>\n",
       "      <td>WPR23LA076</td>\n",
       "      <td>12/26/2022</td>\n",
       "      <td>Morgan, UT</td>\n",
       "      <td>United States</td>\n",
       "      <td>NaN</td>\n",
       "      <td>NaN</td>\n",
       "      <td>NaN</td>\n",
       "      <td>NaN</td>\n",
       "      <td>...</td>\n",
       "      <td>Personal</td>\n",
       "      <td>MC CESSNA 210N LLC</td>\n",
       "      <td>0.0</td>\n",
       "      <td>0.0</td>\n",
       "      <td>0.0</td>\n",
       "      <td>0.0</td>\n",
       "      <td>NaN</td>\n",
       "      <td>NaN</td>\n",
       "      <td>NaN</td>\n",
       "      <td>NaN</td>\n",
       "    </tr>\n",
       "    <tr>\n",
       "      <th>88888</th>\n",
       "      <td>2.02212E+13</td>\n",
       "      <td>Accident</td>\n",
       "      <td>ERA23LA097</td>\n",
       "      <td>12/29/2022</td>\n",
       "      <td>Athens, GA</td>\n",
       "      <td>United States</td>\n",
       "      <td>NaN</td>\n",
       "      <td>NaN</td>\n",
       "      <td>NaN</td>\n",
       "      <td>NaN</td>\n",
       "      <td>...</td>\n",
       "      <td>Personal</td>\n",
       "      <td>NaN</td>\n",
       "      <td>0.0</td>\n",
       "      <td>1.0</td>\n",
       "      <td>0.0</td>\n",
       "      <td>1.0</td>\n",
       "      <td>NaN</td>\n",
       "      <td>NaN</td>\n",
       "      <td>NaN</td>\n",
       "      <td>30-12-2022</td>\n",
       "    </tr>\n",
       "  </tbody>\n",
       "</table>\n",
       "<p>5 rows × 31 columns</p>\n",
       "</div>"
      ],
      "text/plain": [
       "          Event.Id Investigation.Type Accident.Number  Event.Date  \\\n",
       "88884  2.02212E+13           Accident      ERA23LA093  12/26/2022   \n",
       "88885  2.02212E+13           Accident      ERA23LA095  12/26/2022   \n",
       "88886  2.02212E+13           Accident      WPR23LA075  12/26/2022   \n",
       "88887  2.02212E+13           Accident      WPR23LA076  12/26/2022   \n",
       "88888  2.02212E+13           Accident      ERA23LA097  12/29/2022   \n",
       "\n",
       "            Location        Country Latitude Longitude Airport.Code  \\\n",
       "88884  Annapolis, MD  United States      NaN       NaN          NaN   \n",
       "88885    Hampton, NH  United States      NaN       NaN          NaN   \n",
       "88886     Payson, AZ  United States  341525N  1112021W          PAN   \n",
       "88887     Morgan, UT  United States      NaN       NaN          NaN   \n",
       "88888     Athens, GA  United States      NaN       NaN          NaN   \n",
       "\n",
       "      Airport.Name  ... Purpose.of.flight         Air.carrier  \\\n",
       "88884          NaN  ...          Personal                 NaN   \n",
       "88885          NaN  ...               NaN                 NaN   \n",
       "88886       PAYSON  ...          Personal                 NaN   \n",
       "88887          NaN  ...          Personal  MC CESSNA 210N LLC   \n",
       "88888          NaN  ...          Personal                 NaN   \n",
       "\n",
       "      Total.Fatal.Injuries Total.Serious.Injuries Total.Minor.Injuries  \\\n",
       "88884                  0.0                    1.0                  0.0   \n",
       "88885                  0.0                    0.0                  0.0   \n",
       "88886                  0.0                    0.0                  0.0   \n",
       "88887                  0.0                    0.0                  0.0   \n",
       "88888                  0.0                    1.0                  0.0   \n",
       "\n",
       "      Total.Uninjured Weather.Condition  Broad.phase.of.flight Report.Status  \\\n",
       "88884             0.0               NaN                    NaN           NaN   \n",
       "88885             0.0               NaN                    NaN           NaN   \n",
       "88886             1.0               VMC                    NaN           NaN   \n",
       "88887             0.0               NaN                    NaN           NaN   \n",
       "88888             1.0               NaN                    NaN           NaN   \n",
       "\n",
       "      Publication.Date  \n",
       "88884       29-12-2022  \n",
       "88885              NaN  \n",
       "88886       27-12-2022  \n",
       "88887              NaN  \n",
       "88888       30-12-2022  \n",
       "\n",
       "[5 rows x 31 columns]"
      ]
     },
     "execution_count": 5,
     "metadata": {},
     "output_type": "execute_result"
    }
   ],
   "source": [
    "# Looking at the last five columns of the pandas dataframe\n",
    "df.tail()"
   ]
  },
  {
   "cell_type": "markdown",
   "metadata": {},
   "source": [
    "Based on the preliminary analysis, the follwing columns: 1) Latitude, 2) Longitude, 3) Airport Code, 4) Airport Name, \n",
    "5) Air Carrier has missing data.  I may want to consider removing the columns.  I am going to see how many rows and columns of\n",
    "data have missing or undefined data.\n",
    "    "
   ]
  },
  {
   "cell_type": "code",
   "execution_count": 6,
   "metadata": {},
   "outputs": [
    {
     "data": {
      "text/plain": [
       "(88889, 31)"
      ]
     },
     "execution_count": 6,
     "metadata": {},
     "output_type": "execute_result"
    }
   ],
   "source": [
    "df.shape"
   ]
  },
  {
   "cell_type": "code",
   "execution_count": 7,
   "metadata": {},
   "outputs": [
    {
     "data": {
      "text/plain": [
       "Event.Id                      0\n",
       "Investigation.Type            0\n",
       "Accident.Number               0\n",
       "Event.Date                    0\n",
       "Location                     52\n",
       "Country                     226\n",
       "Latitude                  54507\n",
       "Longitude                 54516\n",
       "Airport.Code              38640\n",
       "Airport.Name              36099\n",
       "Injury.Severity            1000\n",
       "Aircraft.damage            3194\n",
       "Aircraft.Category         56602\n",
       "Registration.Number        1317\n",
       "Make                         63\n",
       "Model                        92\n",
       "Amateur.Built               102\n",
       "Number.of.Engines          6084\n",
       "Engine.Type                7077\n",
       "FAR.Description           56866\n",
       "Schedule                  76307\n",
       "Purpose.of.flight          6192\n",
       "Air.carrier               72241\n",
       "Total.Fatal.Injuries      11401\n",
       "Total.Serious.Injuries    12510\n",
       "Total.Minor.Injuries      11933\n",
       "Total.Uninjured            5912\n",
       "Weather.Condition          4492\n",
       "Broad.phase.of.flight     27165\n",
       "Report.Status              6381\n",
       "Publication.Date          13771\n",
       "dtype: int64"
      ]
     },
     "execution_count": 7,
     "metadata": {},
     "output_type": "execute_result"
    }
   ],
   "source": [
    "df.isna().sum()"
   ]
  },
  {
   "cell_type": "markdown",
   "metadata": {},
   "source": [
    "Based on the following code - df.isna().sum():\n",
    "    \n",
    "1) The \"Latitude\" column is missing data for 54,507 of its rows\n",
    "2) The \"Longitude\" column is missing data for 54,516 of its rows\n",
    "3) The \"Aircraft Category\" is missing data for 56,602 of its rows\n",
    "4) The \"FAR.Description\" is missing data for 56,866 of its rows\n",
    "5) The \"Schedule\" column is missing data for 76,307 of its rows\n",
    "6) The \"Air Carrier\" column is missing data for 72,241 of its rows"
   ]
  },
  {
   "cell_type": "markdown",
   "metadata": {},
   "source": [
    "As another check, I am going to examine whether or not there are any rows of duplicate data within the Aviation Data file."
   ]
  },
  {
   "cell_type": "code",
   "execution_count": 8,
   "metadata": {},
   "outputs": [
    {
     "name": "stdout",
     "output_type": "stream",
     "text": [
      "0\n"
     ]
    }
   ],
   "source": [
    "duplicates = df[df.duplicated()]\n",
    "print(len(duplicates))"
   ]
  },
  {
   "cell_type": "markdown",
   "metadata": {},
   "source": [
    "There are no rows of duplicate data within the Aviation Data file.  However, I will remove the following columns - 1) \"Latitude, 2) \"Longitude\", 3) \"Aircraft Category\", 4) \"FAR.Description\", 5) \"Schedule\", and 6) \"Air Carrier\" - since their missing rows of data represents a majority of the number of rows present in the Aviation Data file."
   ]
  },
  {
   "cell_type": "code",
   "execution_count": 9,
   "metadata": {},
   "outputs": [],
   "source": [
    "df = df.drop(columns=['Latitude','Longitude','Aircraft.Category','FAR.Description','Schedule','Air.carrier'])"
   ]
  },
  {
   "cell_type": "code",
   "execution_count": 10,
   "metadata": {},
   "outputs": [
    {
     "name": "stdout",
     "output_type": "stream",
     "text": [
      "<class 'pandas.core.frame.DataFrame'>\n",
      "RangeIndex: 88889 entries, 0 to 88888\n",
      "Data columns (total 25 columns):\n",
      " #   Column                  Non-Null Count  Dtype  \n",
      "---  ------                  --------------  -----  \n",
      " 0   Event.Id                88889 non-null  object \n",
      " 1   Investigation.Type      88889 non-null  object \n",
      " 2   Accident.Number         88889 non-null  object \n",
      " 3   Event.Date              88889 non-null  object \n",
      " 4   Location                88837 non-null  object \n",
      " 5   Country                 88663 non-null  object \n",
      " 6   Airport.Code            50249 non-null  object \n",
      " 7   Airport.Name            52790 non-null  object \n",
      " 8   Injury.Severity         87889 non-null  object \n",
      " 9   Aircraft.damage         85695 non-null  object \n",
      " 10  Registration.Number     87572 non-null  object \n",
      " 11  Make                    88826 non-null  object \n",
      " 12  Model                   88797 non-null  object \n",
      " 13  Amateur.Built           88787 non-null  object \n",
      " 14  Number.of.Engines       82805 non-null  float64\n",
      " 15  Engine.Type             81812 non-null  object \n",
      " 16  Purpose.of.flight       82697 non-null  object \n",
      " 17  Total.Fatal.Injuries    77488 non-null  float64\n",
      " 18  Total.Serious.Injuries  76379 non-null  float64\n",
      " 19  Total.Minor.Injuries    76956 non-null  float64\n",
      " 20  Total.Uninjured         82977 non-null  float64\n",
      " 21  Weather.Condition       84397 non-null  object \n",
      " 22  Broad.phase.of.flight   61724 non-null  object \n",
      " 23  Report.Status           82508 non-null  object \n",
      " 24  Publication.Date        75118 non-null  object \n",
      "dtypes: float64(5), object(20)\n",
      "memory usage: 17.0+ MB\n"
     ]
    }
   ],
   "source": [
    "# Checking whether or not the aforementioned 6 columns have been revmoved from the Aviation Data file\n",
    "\n",
    "df.info()"
   ]
  },
  {
   "cell_type": "code",
   "execution_count": 11,
   "metadata": {},
   "outputs": [
    {
     "data": {
      "text/plain": [
       "Index(['Event.Id', 'Investigation.Type', 'Accident.Number', 'Event.Date',\n",
       "       'Location', 'Country', 'Airport.Code', 'Airport.Name',\n",
       "       'Injury.Severity', 'Aircraft.damage', 'Registration.Number', 'Make',\n",
       "       'Model', 'Amateur.Built', 'Number.of.Engines', 'Engine.Type',\n",
       "       'Purpose.of.flight', 'Total.Fatal.Injuries', 'Total.Serious.Injuries',\n",
       "       'Total.Minor.Injuries', 'Total.Uninjured', 'Weather.Condition',\n",
       "       'Broad.phase.of.flight', 'Report.Status', 'Publication.Date'],\n",
       "      dtype='object')"
      ]
     },
     "execution_count": 11,
     "metadata": {},
     "output_type": "execute_result"
    }
   ],
   "source": [
    "# Another check to determine whether or not the aforementioned 6 columns have been revmoved from the Aviation Data file\n",
    "\n",
    "df.columns"
   ]
  },
  {
   "cell_type": "markdown",
   "metadata": {},
   "source": [
    "I am going to explore the following column - Investigation.Type."
   ]
  },
  {
   "cell_type": "code",
   "execution_count": 12,
   "metadata": {},
   "outputs": [
    {
     "data": {
      "text/plain": [
       "array(['Accident', 'Incident'], dtype=object)"
      ]
     },
     "execution_count": 12,
     "metadata": {},
     "output_type": "execute_result"
    }
   ],
   "source": [
    "df['Investigation.Type'].unique()"
   ]
  },
  {
   "cell_type": "code",
   "execution_count": 13,
   "metadata": {},
   "outputs": [
    {
     "data": {
      "text/plain": [
       "2"
      ]
     },
     "execution_count": 13,
     "metadata": {},
     "output_type": "execute_result"
    }
   ],
   "source": [
    "df['Investigation.Type'].nunique()"
   ]
  },
  {
   "cell_type": "code",
   "execution_count": 14,
   "metadata": {},
   "outputs": [
    {
     "data": {
      "text/plain": [
       "Accident    85015\n",
       "Incident     3874\n",
       "Name: Investigation.Type, dtype: int64"
      ]
     },
     "execution_count": 14,
     "metadata": {},
     "output_type": "execute_result"
    }
   ],
   "source": [
    "df['Investigation.Type'].value_counts()"
   ]
  },
  {
   "cell_type": "markdown",
   "metadata": {},
   "source": [
    "## Additional and Initial Analysis\n",
    "\n",
    "I utilized Tableau to conduct additional and initial analysis of the data.\n",
    "\n",
    "Analysis can be accessed via the following link: https://public.tableau.com/app/profile/keith.otuomagie/viz/aircraft_analysis_kbo_2024_08_03/SafetyRecordperAircraftManufacturer\n",
    "\n",
    "I examined the following: \n",
    "\n",
    "1. Total Number of Fatalities incurred by each Aircraft Manufacturer\n",
    "2. Total Number of Serious Injuries incurred by each Aircraft Manufacturer\n",
    "3. Total Number of Minor Injuries incurred by each Aircraft Manufacturer\n",
    "\n",
    "\n",
    "The top 5 Aircraft Manufacturers that incurred the most fatalities are the following:\n",
    "\n",
    "1. Cessna (9,641 total fatalities)\n",
    "2. Boeing (8,748 total fatalities)\n",
    "3. Piper (6,689 total fatalities)\n",
    "4. Beech (3,784 total fatalities)\n",
    "5. Bell (1,332 total fatalities)\n",
    "\n",
    "\n",
    "The top 5 Aircraft Manufacturers that incurred the most serious injuries are the following:\n",
    "\n",
    "1. Cessna (4,894 total serious injuries)\n",
    "2. Piper (3,059 total serious injuries)\n",
    "3. Boeing (2,157 total serious injuries)\n",
    "4. Beech (1,095 total serious injuries)\n",
    "5. Bell (878 total serious injuries)\n",
    "\n",
    "\n",
    "The top 5 aircraft manufacturers that incurred the most minor injuries are the following:\n",
    "\n",
    "1. Cessna (6,876 total minor injuries)\n",
    "2. Piper (3,757 total minor injuries)\n",
    "3. Boeing (2,761 total minor injuries)\n",
    "4. McDonnell Douglas (1,505 total minor injuries)\n",
    "5. Beech (1,122 total minor injuries)\n",
    "\n",
    "This is not a complete way to determine which aircraft manufacturers have the best (or worst) safety because each aircraft manufacturer has a different amount of records within the Aviation data file."
   ]
  },
  {
   "cell_type": "markdown",
   "metadata": {},
   "source": [
    "## Continuing Exploratory Data Analysis\n",
    "\n",
    "I am going to continue additional exploratory analysis via pandas.  I want to see how many Aircraft Manufacturers are represented in the Aviation Data file."
   ]
  },
  {
   "cell_type": "code",
   "execution_count": 15,
   "metadata": {},
   "outputs": [
    {
     "data": {
      "text/plain": [
       "array(['Stinson', 'Piper', 'Cessna', ..., 'JAMES R DERNOVSEK',\n",
       "       'ORLICAN S R O', 'ROYSE RALPH L'], dtype=object)"
      ]
     },
     "execution_count": 15,
     "metadata": {},
     "output_type": "execute_result"
    }
   ],
   "source": [
    "df['Make'].unique()"
   ]
  },
  {
   "cell_type": "code",
   "execution_count": 16,
   "metadata": {},
   "outputs": [
    {
     "data": {
      "text/plain": [
       "8237"
      ]
     },
     "execution_count": 16,
     "metadata": {},
     "output_type": "execute_result"
    }
   ],
   "source": [
    "df['Make'].nunique()"
   ]
  },
  {
   "cell_type": "markdown",
   "metadata": {},
   "source": [
    "Based on the following code - df['Make'].nunique() - there are 8,237 unique Plane Makes in the Aviation Data file."
   ]
  },
  {
   "cell_type": "code",
   "execution_count": 17,
   "metadata": {},
   "outputs": [
    {
     "data": {
      "text/plain": [
       "Cessna                22227\n",
       "Piper                 12029\n",
       "CESSNA                 4922\n",
       "Beech                  4330\n",
       "PIPER                  2841\n",
       "                      ...  \n",
       "Kevin Leue                1\n",
       "Falcon Special            1\n",
       "CROMAN CORPORATION        1\n",
       "Current                   1\n",
       "Plocher                   1\n",
       "Name: Make, Length: 8237, dtype: int64"
      ]
     },
     "execution_count": 17,
     "metadata": {},
     "output_type": "execute_result"
    }
   ],
   "source": [
    "df['Make'].value_counts()"
   ]
  },
  {
   "cell_type": "code",
   "execution_count": 18,
   "metadata": {},
   "outputs": [
    {
     "data": {
      "text/plain": [
       "Cessna                            22227\n",
       "Piper                             12029\n",
       "CESSNA                             4922\n",
       "Beech                              4330\n",
       "PIPER                              2841\n",
       "Bell                               2134\n",
       "Boeing                             1594\n",
       "BOEING                             1151\n",
       "Grumman                            1094\n",
       "Mooney                             1092\n",
       "BEECH                              1042\n",
       "Robinson                            946\n",
       "Bellanca                            886\n",
       "Hughes                              795\n",
       "Schweizer                           629\n",
       "Air Tractor                         595\n",
       "BELL                                588\n",
       "Mcdonnell Douglas                   526\n",
       "Aeronca                             487\n",
       "Maule                               445\n",
       "Champion                            428\n",
       "De Havilland                        382\n",
       "Aero Commander                      360\n",
       "Stinson                             348\n",
       "Aerospatiale                        342\n",
       "Rockwell                            331\n",
       "Taylorcraft                         321\n",
       "Luscombe                            319\n",
       "Hiller                              311\n",
       "North American                      304\n",
       "ROBINSON                            284\n",
       "Douglas                             255\n",
       "AIRBUS                              251\n",
       "Enstrom                             247\n",
       "MOONEY                              242\n",
       "Grumman American                    224\n",
       "ROBINSON HELICOPTER                 221\n",
       "CIRRUS DESIGN CORP                  218\n",
       "AIR TRACTOR INC                     217\n",
       "Ayres                               215\n",
       "ROBINSON HELICOPTER COMPANY         179\n",
       "BELLANCA                            159\n",
       "Ercoupe (eng & Research Corp.)      156\n",
       "Sikorsky                            156\n",
       "Swearingen                          151\n",
       "AERONCA                             149\n",
       "MAULE                               144\n",
       "SCHWEIZER                           144\n",
       "Airbus Industrie                    142\n",
       "Pitts                               141\n",
       "Balloon Works                       139\n",
       "HUGHES                              137\n",
       "Lake                                136\n",
       "Fairchild                           134\n",
       "EMBRAER                             130\n",
       "Mitsubishi                          129\n",
       "EUROCOPTER                          128\n",
       "Grumman-schweizer                   121\n",
       "Waco                                118\n",
       "Aviat                               112\n",
       "Name: Make, dtype: int64"
      ]
     },
     "execution_count": 18,
     "metadata": {},
     "output_type": "execute_result"
    }
   ],
   "source": [
    "df['Make'].value_counts()[0:60]"
   ]
  },
  {
   "cell_type": "markdown",
   "metadata": {},
   "source": [
    "Examining the following code - df['Make'].value_counts()[0:50] - I see that there are more records for certain Aircraft Manufacturers than others. In order to eventually provide a series of recommendations, I may need to consider a subset of the Aircraft Manufacturers.\n",
    "\n",
    "I have also made the following observations, which are the following:\n",
    "1. Cessna is spelled in both capital letters and lower case letters;\n",
    "2. Piper is spelled in both capital letters and lower case letters;\n",
    "3. Boeing is spelled in both capital letters and lower case letters;\n",
    "4. Airbus is represented with the following two spellings - \"AIRBUS\" and \"Airbus Industrie\";\n",
    "5. Douglas is represented with the following two spellings - \"Mcdonnell Douglas\" and \"Douglas\";\n",
    "6. Beech is spelled in both capital letters and lower case letters;\n",
    "7. Robinson is spelled in both capital letters and lower case letters;\n",
    "8. Bell is spelled in both capital letters and lower case letters;\n",
    "9. Grumman is represented with the following two spellings - \"Grumman\" and \"Grumman American\";\n",
    "10. Mooney is spelled in both capital letters and lower case letters;\n",
    "11. Hughes is spelled in both capital letters and lower case letters;\n",
    "12. Schweizer is spelled in both capital letters and lower case letters;\n",
    "13. Aeronca is spelled in both capital letters and lower case letters;\n",
    "14. Maule is spelled in both capital letters and lower case letters;\n",
    "15. Bellanca is spelled in both capital letters and lower case letters;\n",
    "16. Embraera is spelled in both capital letters and lower case letters;\n",
    "17. Air Tractor is spelled in both capital letters and lower case letters;\n",
    "18. Luscombe is spelled in both capital letters and lower case letters;\n",
    "19. De Havilland is spelled in both capital letters and lower case letters;\n",
    "20. Stinson is spelled in both capital letters and lower case letters;\n",
    "21. North American is spelled in both capital letters and lower case letters;\n",
    "22. Sikorsky is spelled in both capital letters and lower case letters."
   ]
  },
  {
   "cell_type": "code",
   "execution_count": 19,
   "metadata": {},
   "outputs": [],
   "source": [
    "# Changing all of the spellings of Cessna to \"Cessna\"\n",
    "\n",
    "df.loc[df['Make'] == 'CESSNA', 'Make'] = \"Cessna\""
   ]
  },
  {
   "cell_type": "code",
   "execution_count": 20,
   "metadata": {},
   "outputs": [
    {
     "data": {
      "text/plain": [
       "Cessna                            27149\n",
       "Piper                             12029\n",
       "Beech                              4330\n",
       "PIPER                              2841\n",
       "Bell                               2134\n",
       "Boeing                             1594\n",
       "BOEING                             1151\n",
       "Grumman                            1094\n",
       "Mooney                             1092\n",
       "BEECH                              1042\n",
       "Robinson                            946\n",
       "Bellanca                            886\n",
       "Hughes                              795\n",
       "Schweizer                           629\n",
       "Air Tractor                         595\n",
       "BELL                                588\n",
       "Mcdonnell Douglas                   526\n",
       "Aeronca                             487\n",
       "Maule                               445\n",
       "Champion                            428\n",
       "De Havilland                        382\n",
       "Aero Commander                      360\n",
       "Stinson                             348\n",
       "Aerospatiale                        342\n",
       "Rockwell                            331\n",
       "Taylorcraft                         321\n",
       "Luscombe                            319\n",
       "Hiller                              311\n",
       "North American                      304\n",
       "ROBINSON                            284\n",
       "Douglas                             255\n",
       "AIRBUS                              251\n",
       "Enstrom                             247\n",
       "MOONEY                              242\n",
       "Grumman American                    224\n",
       "ROBINSON HELICOPTER                 221\n",
       "CIRRUS DESIGN CORP                  218\n",
       "AIR TRACTOR INC                     217\n",
       "Ayres                               215\n",
       "ROBINSON HELICOPTER COMPANY         179\n",
       "BELLANCA                            159\n",
       "Ercoupe (eng & Research Corp.)      156\n",
       "Sikorsky                            156\n",
       "Swearingen                          151\n",
       "AERONCA                             149\n",
       "SCHWEIZER                           144\n",
       "MAULE                               144\n",
       "Airbus Industrie                    142\n",
       "Pitts                               141\n",
       "Balloon Works                       139\n",
       "HUGHES                              137\n",
       "Lake                                136\n",
       "Fairchild                           134\n",
       "EMBRAER                             130\n",
       "Mitsubishi                          129\n",
       "EUROCOPTER                          128\n",
       "Grumman-schweizer                   121\n",
       "Waco                                118\n",
       "Lockheed                            112\n",
       "Aviat                               112\n",
       "Name: Make, dtype: int64"
      ]
     },
     "execution_count": 20,
     "metadata": {},
     "output_type": "execute_result"
    }
   ],
   "source": [
    "# Checking to see whether or not all of the spellings of Cessna are \"Cessna\"\n",
    "\n",
    "df['Make'].value_counts()[0:60]"
   ]
  },
  {
   "cell_type": "code",
   "execution_count": 21,
   "metadata": {},
   "outputs": [],
   "source": [
    "# Changing all of the spellings of Piper to \"Piper\"\n",
    "\n",
    "df.loc[df['Make'] == 'PIPER', 'Make'] = \"Piper\""
   ]
  },
  {
   "cell_type": "code",
   "execution_count": 22,
   "metadata": {},
   "outputs": [
    {
     "data": {
      "text/plain": [
       "Cessna                            27149\n",
       "Piper                             14870\n",
       "Beech                              4330\n",
       "Bell                               2134\n",
       "Boeing                             1594\n",
       "BOEING                             1151\n",
       "Grumman                            1094\n",
       "Mooney                             1092\n",
       "BEECH                              1042\n",
       "Robinson                            946\n",
       "Bellanca                            886\n",
       "Hughes                              795\n",
       "Schweizer                           629\n",
       "Air Tractor                         595\n",
       "BELL                                588\n",
       "Mcdonnell Douglas                   526\n",
       "Aeronca                             487\n",
       "Maule                               445\n",
       "Champion                            428\n",
       "De Havilland                        382\n",
       "Aero Commander                      360\n",
       "Stinson                             348\n",
       "Aerospatiale                        342\n",
       "Rockwell                            331\n",
       "Taylorcraft                         321\n",
       "Luscombe                            319\n",
       "Hiller                              311\n",
       "North American                      304\n",
       "ROBINSON                            284\n",
       "Douglas                             255\n",
       "AIRBUS                              251\n",
       "Enstrom                             247\n",
       "MOONEY                              242\n",
       "Grumman American                    224\n",
       "ROBINSON HELICOPTER                 221\n",
       "CIRRUS DESIGN CORP                  218\n",
       "AIR TRACTOR INC                     217\n",
       "Ayres                               215\n",
       "ROBINSON HELICOPTER COMPANY         179\n",
       "BELLANCA                            159\n",
       "Ercoupe (eng & Research Corp.)      156\n",
       "Sikorsky                            156\n",
       "Swearingen                          151\n",
       "AERONCA                             149\n",
       "MAULE                               144\n",
       "SCHWEIZER                           144\n",
       "Airbus Industrie                    142\n",
       "Pitts                               141\n",
       "Balloon Works                       139\n",
       "HUGHES                              137\n",
       "Lake                                136\n",
       "Fairchild                           134\n",
       "EMBRAER                             130\n",
       "Mitsubishi                          129\n",
       "EUROCOPTER                          128\n",
       "Grumman-schweizer                   121\n",
       "Waco                                118\n",
       "Aviat                               112\n",
       "Lockheed                            112\n",
       "Let                                 112\n",
       "Name: Make, dtype: int64"
      ]
     },
     "execution_count": 22,
     "metadata": {},
     "output_type": "execute_result"
    }
   ],
   "source": [
    "# Checking to see whether or not the spellings of Piper are \"Piper\"\n",
    "\n",
    "df['Make'].value_counts()[0:60]"
   ]
  },
  {
   "cell_type": "code",
   "execution_count": 23,
   "metadata": {},
   "outputs": [],
   "source": [
    "# Changing all of the spellings of Boeing to \"Boeing\"\n",
    "\n",
    "df.loc[df['Make'] == 'BOEING', 'Make'] = \"Boeing\""
   ]
  },
  {
   "cell_type": "code",
   "execution_count": 24,
   "metadata": {},
   "outputs": [
    {
     "data": {
      "text/plain": [
       "Cessna                            27149\n",
       "Piper                             14870\n",
       "Beech                              4330\n",
       "Boeing                             2745\n",
       "Bell                               2134\n",
       "Grumman                            1094\n",
       "Mooney                             1092\n",
       "BEECH                              1042\n",
       "Robinson                            946\n",
       "Bellanca                            886\n",
       "Hughes                              795\n",
       "Schweizer                           629\n",
       "Air Tractor                         595\n",
       "BELL                                588\n",
       "Mcdonnell Douglas                   526\n",
       "Aeronca                             487\n",
       "Maule                               445\n",
       "Champion                            428\n",
       "De Havilland                        382\n",
       "Aero Commander                      360\n",
       "Stinson                             348\n",
       "Aerospatiale                        342\n",
       "Rockwell                            331\n",
       "Taylorcraft                         321\n",
       "Luscombe                            319\n",
       "Hiller                              311\n",
       "North American                      304\n",
       "ROBINSON                            284\n",
       "Douglas                             255\n",
       "AIRBUS                              251\n",
       "Enstrom                             247\n",
       "MOONEY                              242\n",
       "Grumman American                    224\n",
       "ROBINSON HELICOPTER                 221\n",
       "CIRRUS DESIGN CORP                  218\n",
       "AIR TRACTOR INC                     217\n",
       "Ayres                               215\n",
       "ROBINSON HELICOPTER COMPANY         179\n",
       "BELLANCA                            159\n",
       "Ercoupe (eng & Research Corp.)      156\n",
       "Sikorsky                            156\n",
       "Swearingen                          151\n",
       "AERONCA                             149\n",
       "MAULE                               144\n",
       "SCHWEIZER                           144\n",
       "Airbus Industrie                    142\n",
       "Pitts                               141\n",
       "Balloon Works                       139\n",
       "HUGHES                              137\n",
       "Lake                                136\n",
       "Fairchild                           134\n",
       "EMBRAER                             130\n",
       "Mitsubishi                          129\n",
       "EUROCOPTER                          128\n",
       "Grumman-schweizer                   121\n",
       "Waco                                118\n",
       "Aviat                               112\n",
       "Lockheed                            112\n",
       "Let                                 112\n",
       "Learjet                             111\n",
       "Name: Make, dtype: int64"
      ]
     },
     "execution_count": 24,
     "metadata": {},
     "output_type": "execute_result"
    }
   ],
   "source": [
    "# Checking to see whether or not all of the spellings of Boeing are \"Boeing\"\n",
    "\n",
    "df['Make'].value_counts()[0:60]"
   ]
  },
  {
   "cell_type": "code",
   "execution_count": 25,
   "metadata": {},
   "outputs": [],
   "source": [
    "# Changing all of the spellings of Airbus to \"Airbus\"\n",
    "\n",
    "df.loc[df['Make'] == 'AIRBUS', 'Make'] = \"Airbus\"\n",
    "df.loc[df['Make'] == 'Airbus Industrie', 'Make'] = \"Airbus\""
   ]
  },
  {
   "cell_type": "code",
   "execution_count": 26,
   "metadata": {},
   "outputs": [
    {
     "data": {
      "text/plain": [
       "Cessna                            27149\n",
       "Piper                             14870\n",
       "Beech                              4330\n",
       "Boeing                             2745\n",
       "Bell                               2134\n",
       "Grumman                            1094\n",
       "Mooney                             1092\n",
       "BEECH                              1042\n",
       "Robinson                            946\n",
       "Bellanca                            886\n",
       "Hughes                              795\n",
       "Schweizer                           629\n",
       "Air Tractor                         595\n",
       "BELL                                588\n",
       "Mcdonnell Douglas                   526\n",
       "Aeronca                             487\n",
       "Maule                               445\n",
       "Airbus                              433\n",
       "Champion                            428\n",
       "De Havilland                        382\n",
       "Aero Commander                      360\n",
       "Stinson                             348\n",
       "Aerospatiale                        342\n",
       "Rockwell                            331\n",
       "Taylorcraft                         321\n",
       "Luscombe                            319\n",
       "Hiller                              311\n",
       "North American                      304\n",
       "ROBINSON                            284\n",
       "Douglas                             255\n",
       "Enstrom                             247\n",
       "MOONEY                              242\n",
       "Grumman American                    224\n",
       "ROBINSON HELICOPTER                 221\n",
       "CIRRUS DESIGN CORP                  218\n",
       "AIR TRACTOR INC                     217\n",
       "Ayres                               215\n",
       "ROBINSON HELICOPTER COMPANY         179\n",
       "BELLANCA                            159\n",
       "Sikorsky                            156\n",
       "Ercoupe (eng & Research Corp.)      156\n",
       "Swearingen                          151\n",
       "AERONCA                             149\n",
       "MAULE                               144\n",
       "SCHWEIZER                           144\n",
       "Pitts                               141\n",
       "Balloon Works                       139\n",
       "HUGHES                              137\n",
       "Lake                                136\n",
       "Fairchild                           134\n",
       "EMBRAER                             130\n",
       "Mitsubishi                          129\n",
       "EUROCOPTER                          128\n",
       "Grumman-schweizer                   121\n",
       "Waco                                118\n",
       "Lockheed                            112\n",
       "Let                                 112\n",
       "Aviat                               112\n",
       "Learjet                             111\n",
       "Burkhart Grob                       110\n",
       "Name: Make, dtype: int64"
      ]
     },
     "execution_count": 26,
     "metadata": {},
     "output_type": "execute_result"
    }
   ],
   "source": [
    "# Checking to see whether or not the spellings of Airbus are now \"Airbus\"\n",
    "\n",
    "df['Make'].value_counts()[0:60]"
   ]
  },
  {
   "cell_type": "code",
   "execution_count": 27,
   "metadata": {},
   "outputs": [],
   "source": [
    "# Changing all of the spellings of McDonnell Douglas to \"McDonnell Douglas\"\n",
    "\n",
    "df.loc[df['Make'] == 'Douglas', 'Make'] = \"Mcdonnell Douglas\"\n",
    "df.loc[df['Make'] == 'MCDONNELL DOUGLAS', 'Make'] = \"Mcdonnell Douglas\""
   ]
  },
  {
   "cell_type": "code",
   "execution_count": 28,
   "metadata": {},
   "outputs": [
    {
     "data": {
      "text/plain": [
       "Cessna                            27149\n",
       "Piper                             14870\n",
       "Beech                              4330\n",
       "Boeing                             2745\n",
       "Bell                               2134\n",
       "Grumman                            1094\n",
       "Mooney                             1092\n",
       "BEECH                              1042\n",
       "Robinson                            946\n",
       "Bellanca                            886\n",
       "Mcdonnell Douglas                   859\n",
       "Hughes                              795\n",
       "Schweizer                           629\n",
       "Air Tractor                         595\n",
       "BELL                                588\n",
       "Aeronca                             487\n",
       "Maule                               445\n",
       "Airbus                              433\n",
       "Champion                            428\n",
       "De Havilland                        382\n",
       "Aero Commander                      360\n",
       "Stinson                             348\n",
       "Aerospatiale                        342\n",
       "Rockwell                            331\n",
       "Taylorcraft                         321\n",
       "Luscombe                            319\n",
       "Hiller                              311\n",
       "North American                      304\n",
       "ROBINSON                            284\n",
       "Enstrom                             247\n",
       "MOONEY                              242\n",
       "Grumman American                    224\n",
       "ROBINSON HELICOPTER                 221\n",
       "CIRRUS DESIGN CORP                  218\n",
       "AIR TRACTOR INC                     217\n",
       "Ayres                               215\n",
       "ROBINSON HELICOPTER COMPANY         179\n",
       "BELLANCA                            159\n",
       "Ercoupe (eng & Research Corp.)      156\n",
       "Sikorsky                            156\n",
       "Swearingen                          151\n",
       "AERONCA                             149\n",
       "SCHWEIZER                           144\n",
       "MAULE                               144\n",
       "Pitts                               141\n",
       "Balloon Works                       139\n",
       "HUGHES                              137\n",
       "Lake                                136\n",
       "Fairchild                           134\n",
       "EMBRAER                             130\n",
       "Mitsubishi                          129\n",
       "EUROCOPTER                          128\n",
       "Grumman-schweizer                   121\n",
       "Waco                                118\n",
       "Lockheed                            112\n",
       "Let                                 112\n",
       "Aviat                               112\n",
       "Learjet                             111\n",
       "Burkhart Grob                       110\n",
       "Embraer                             108\n",
       "Name: Make, dtype: int64"
      ]
     },
     "execution_count": 28,
     "metadata": {},
     "output_type": "execute_result"
    }
   ],
   "source": [
    "# Checking to see whether or not the spellings of McDonnell Douglas are now \"McDonnell Douglas\"\n",
    "\n",
    "df['Make'].value_counts()[0:60]"
   ]
  },
  {
   "cell_type": "code",
   "execution_count": 29,
   "metadata": {},
   "outputs": [],
   "source": [
    "# Changing all of the spellings of Beech to \"Beech\"\n",
    "\n",
    "df.loc[df['Make'] == 'BEECH', 'Make'] = \"Beech\""
   ]
  },
  {
   "cell_type": "code",
   "execution_count": 30,
   "metadata": {},
   "outputs": [
    {
     "data": {
      "text/plain": [
       "Cessna                            27149\n",
       "Piper                             14870\n",
       "Beech                              5372\n",
       "Boeing                             2745\n",
       "Bell                               2134\n",
       "Grumman                            1094\n",
       "Mooney                             1092\n",
       "Robinson                            946\n",
       "Bellanca                            886\n",
       "Mcdonnell Douglas                   859\n",
       "Hughes                              795\n",
       "Schweizer                           629\n",
       "Air Tractor                         595\n",
       "BELL                                588\n",
       "Aeronca                             487\n",
       "Maule                               445\n",
       "Airbus                              433\n",
       "Champion                            428\n",
       "De Havilland                        382\n",
       "Aero Commander                      360\n",
       "Stinson                             348\n",
       "Aerospatiale                        342\n",
       "Rockwell                            331\n",
       "Taylorcraft                         321\n",
       "Luscombe                            319\n",
       "Hiller                              311\n",
       "North American                      304\n",
       "ROBINSON                            284\n",
       "Enstrom                             247\n",
       "MOONEY                              242\n",
       "Grumman American                    224\n",
       "ROBINSON HELICOPTER                 221\n",
       "CIRRUS DESIGN CORP                  218\n",
       "AIR TRACTOR INC                     217\n",
       "Ayres                               215\n",
       "ROBINSON HELICOPTER COMPANY         179\n",
       "BELLANCA                            159\n",
       "Sikorsky                            156\n",
       "Ercoupe (eng & Research Corp.)      156\n",
       "Swearingen                          151\n",
       "AERONCA                             149\n",
       "MAULE                               144\n",
       "SCHWEIZER                           144\n",
       "Pitts                               141\n",
       "Balloon Works                       139\n",
       "HUGHES                              137\n",
       "Lake                                136\n",
       "Fairchild                           134\n",
       "EMBRAER                             130\n",
       "Mitsubishi                          129\n",
       "EUROCOPTER                          128\n",
       "Grumman-schweizer                   121\n",
       "Waco                                118\n",
       "Lockheed                            112\n",
       "Let                                 112\n",
       "Aviat                               112\n",
       "Learjet                             111\n",
       "Burkhart Grob                       110\n",
       "Embraer                             108\n",
       "Schleicher                          101\n",
       "Name: Make, dtype: int64"
      ]
     },
     "execution_count": 30,
     "metadata": {},
     "output_type": "execute_result"
    }
   ],
   "source": [
    "# Checking to see whether or not the spellings of Beech are now \"Beech\"\n",
    "\n",
    "df['Make'].value_counts()[0:60]"
   ]
  },
  {
   "cell_type": "code",
   "execution_count": 31,
   "metadata": {},
   "outputs": [],
   "source": [
    "# Changing all of the spellings of Robinson to \"Robinson\"\n",
    "\n",
    "df.loc[df['Make'] == 'ROBINSON', 'Make'] = \"Robinson\""
   ]
  },
  {
   "cell_type": "code",
   "execution_count": 32,
   "metadata": {},
   "outputs": [
    {
     "data": {
      "text/plain": [
       "Cessna                            27149\n",
       "Piper                             14870\n",
       "Beech                              5372\n",
       "Boeing                             2745\n",
       "Bell                               2134\n",
       "Robinson                           1230\n",
       "Grumman                            1094\n",
       "Mooney                             1092\n",
       "Bellanca                            886\n",
       "Mcdonnell Douglas                   859\n",
       "Hughes                              795\n",
       "Schweizer                           629\n",
       "Air Tractor                         595\n",
       "BELL                                588\n",
       "Aeronca                             487\n",
       "Maule                               445\n",
       "Airbus                              433\n",
       "Champion                            428\n",
       "De Havilland                        382\n",
       "Aero Commander                      360\n",
       "Stinson                             348\n",
       "Aerospatiale                        342\n",
       "Rockwell                            331\n",
       "Taylorcraft                         321\n",
       "Luscombe                            319\n",
       "Hiller                              311\n",
       "North American                      304\n",
       "Enstrom                             247\n",
       "MOONEY                              242\n",
       "Grumman American                    224\n",
       "ROBINSON HELICOPTER                 221\n",
       "CIRRUS DESIGN CORP                  218\n",
       "AIR TRACTOR INC                     217\n",
       "Ayres                               215\n",
       "ROBINSON HELICOPTER COMPANY         179\n",
       "BELLANCA                            159\n",
       "Sikorsky                            156\n",
       "Ercoupe (eng & Research Corp.)      156\n",
       "Swearingen                          151\n",
       "AERONCA                             149\n",
       "MAULE                               144\n",
       "SCHWEIZER                           144\n",
       "Pitts                               141\n",
       "Balloon Works                       139\n",
       "HUGHES                              137\n",
       "Lake                                136\n",
       "Fairchild                           134\n",
       "EMBRAER                             130\n",
       "Mitsubishi                          129\n",
       "EUROCOPTER                          128\n",
       "Grumman-schweizer                   121\n",
       "Waco                                118\n",
       "Lockheed                            112\n",
       "Aviat                               112\n",
       "Let                                 112\n",
       "Learjet                             111\n",
       "Burkhart Grob                       110\n",
       "Embraer                             108\n",
       "Schleicher                          101\n",
       "AIR TRACTOR                          96\n",
       "Name: Make, dtype: int64"
      ]
     },
     "execution_count": 32,
     "metadata": {},
     "output_type": "execute_result"
    }
   ],
   "source": [
    "# Checking to see whether or not the spellings of Robinson are now \"ROBINSON\"\n",
    "\n",
    "df['Make'].value_counts()[0:60]"
   ]
  },
  {
   "cell_type": "code",
   "execution_count": 33,
   "metadata": {},
   "outputs": [],
   "source": [
    "# Changing all of the spellings of Bell to \"Bell\"\n",
    "\n",
    "df.loc[df['Make'] == 'BELL', 'Make'] = \"Bell\""
   ]
  },
  {
   "cell_type": "code",
   "execution_count": 34,
   "metadata": {},
   "outputs": [
    {
     "data": {
      "text/plain": [
       "Cessna                            27149\n",
       "Piper                             14870\n",
       "Beech                              5372\n",
       "Boeing                             2745\n",
       "Bell                               2722\n",
       "Robinson                           1230\n",
       "Grumman                            1094\n",
       "Mooney                             1092\n",
       "Bellanca                            886\n",
       "Mcdonnell Douglas                   859\n",
       "Hughes                              795\n",
       "Schweizer                           629\n",
       "Air Tractor                         595\n",
       "Aeronca                             487\n",
       "Maule                               445\n",
       "Airbus                              433\n",
       "Champion                            428\n",
       "De Havilland                        382\n",
       "Aero Commander                      360\n",
       "Stinson                             348\n",
       "Aerospatiale                        342\n",
       "Rockwell                            331\n",
       "Taylorcraft                         321\n",
       "Luscombe                            319\n",
       "Hiller                              311\n",
       "North American                      304\n",
       "Enstrom                             247\n",
       "MOONEY                              242\n",
       "Grumman American                    224\n",
       "ROBINSON HELICOPTER                 221\n",
       "CIRRUS DESIGN CORP                  218\n",
       "AIR TRACTOR INC                     217\n",
       "Ayres                               215\n",
       "ROBINSON HELICOPTER COMPANY         179\n",
       "BELLANCA                            159\n",
       "Ercoupe (eng & Research Corp.)      156\n",
       "Sikorsky                            156\n",
       "Swearingen                          151\n",
       "AERONCA                             149\n",
       "MAULE                               144\n",
       "SCHWEIZER                           144\n",
       "Pitts                               141\n",
       "Balloon Works                       139\n",
       "HUGHES                              137\n",
       "Lake                                136\n",
       "Fairchild                           134\n",
       "EMBRAER                             130\n",
       "Mitsubishi                          129\n",
       "EUROCOPTER                          128\n",
       "Grumman-schweizer                   121\n",
       "Waco                                118\n",
       "Lockheed                            112\n",
       "Let                                 112\n",
       "Aviat                               112\n",
       "Learjet                             111\n",
       "Burkhart Grob                       110\n",
       "Embraer                             108\n",
       "Schleicher                          101\n",
       "AIR TRACTOR                          96\n",
       "LUSCOMBE                             95\n",
       "Name: Make, dtype: int64"
      ]
     },
     "execution_count": 34,
     "metadata": {},
     "output_type": "execute_result"
    }
   ],
   "source": [
    "# Checking to see whether or not the spellings of Bell are now \"Bell\"\n",
    "\n",
    "df['Make'].value_counts()[0:60]"
   ]
  },
  {
   "cell_type": "code",
   "execution_count": 35,
   "metadata": {},
   "outputs": [],
   "source": [
    "# Changing all of the spellings of Grumman to \"Grumman\"\n",
    "\n",
    "df.loc[df['Make'] == 'Grumman American', 'Make'] = \"Grumman\"\n",
    "df.loc[df['Make'] == 'GRUMMAN', 'Make'] = \"Grumman\""
   ]
  },
  {
   "cell_type": "code",
   "execution_count": 36,
   "metadata": {},
   "outputs": [
    {
     "data": {
      "text/plain": [
       "Cessna                            27149\n",
       "Piper                             14870\n",
       "Beech                              5372\n",
       "Boeing                             2745\n",
       "Bell                               2722\n",
       "Grumman                            1396\n",
       "Robinson                           1230\n",
       "Mooney                             1092\n",
       "Bellanca                            886\n",
       "Mcdonnell Douglas                   859\n",
       "Hughes                              795\n",
       "Schweizer                           629\n",
       "Air Tractor                         595\n",
       "Aeronca                             487\n",
       "Maule                               445\n",
       "Airbus                              433\n",
       "Champion                            428\n",
       "De Havilland                        382\n",
       "Aero Commander                      360\n",
       "Stinson                             348\n",
       "Aerospatiale                        342\n",
       "Rockwell                            331\n",
       "Taylorcraft                         321\n",
       "Luscombe                            319\n",
       "Hiller                              311\n",
       "North American                      304\n",
       "Enstrom                             247\n",
       "MOONEY                              242\n",
       "ROBINSON HELICOPTER                 221\n",
       "CIRRUS DESIGN CORP                  218\n",
       "AIR TRACTOR INC                     217\n",
       "Ayres                               215\n",
       "ROBINSON HELICOPTER COMPANY         179\n",
       "BELLANCA                            159\n",
       "Ercoupe (eng & Research Corp.)      156\n",
       "Sikorsky                            156\n",
       "Swearingen                          151\n",
       "AERONCA                             149\n",
       "MAULE                               144\n",
       "SCHWEIZER                           144\n",
       "Pitts                               141\n",
       "Balloon Works                       139\n",
       "HUGHES                              137\n",
       "Lake                                136\n",
       "Fairchild                           134\n",
       "EMBRAER                             130\n",
       "Mitsubishi                          129\n",
       "EUROCOPTER                          128\n",
       "Grumman-schweizer                   121\n",
       "Waco                                118\n",
       "Let                                 112\n",
       "Lockheed                            112\n",
       "Aviat                               112\n",
       "Learjet                             111\n",
       "Burkhart Grob                       110\n",
       "Embraer                             108\n",
       "Schleicher                          101\n",
       "AIR TRACTOR                          96\n",
       "LUSCOMBE                             95\n",
       "Helio                                94\n",
       "Name: Make, dtype: int64"
      ]
     },
     "execution_count": 36,
     "metadata": {},
     "output_type": "execute_result"
    }
   ],
   "source": [
    "# Checking to see whether or not the spellings of Grumman are now \"Grumman\"\n",
    "\n",
    "df['Make'].value_counts()[0:60]"
   ]
  },
  {
   "cell_type": "code",
   "execution_count": 37,
   "metadata": {},
   "outputs": [],
   "source": [
    "# Changing all of the spellings of Mooney to \"Mooney\"\n",
    "\n",
    "df.loc[df['Make'] == 'MOONEY', 'Make'] = \"Mooney\""
   ]
  },
  {
   "cell_type": "code",
   "execution_count": 38,
   "metadata": {},
   "outputs": [
    {
     "data": {
      "text/plain": [
       "Cessna                            27149\n",
       "Piper                             14870\n",
       "Beech                              5372\n",
       "Boeing                             2745\n",
       "Bell                               2722\n",
       "Grumman                            1396\n",
       "Mooney                             1334\n",
       "Robinson                           1230\n",
       "Bellanca                            886\n",
       "Mcdonnell Douglas                   859\n",
       "Hughes                              795\n",
       "Schweizer                           629\n",
       "Air Tractor                         595\n",
       "Aeronca                             487\n",
       "Maule                               445\n",
       "Airbus                              433\n",
       "Champion                            428\n",
       "De Havilland                        382\n",
       "Aero Commander                      360\n",
       "Stinson                             348\n",
       "Aerospatiale                        342\n",
       "Rockwell                            331\n",
       "Taylorcraft                         321\n",
       "Luscombe                            319\n",
       "Hiller                              311\n",
       "North American                      304\n",
       "Enstrom                             247\n",
       "ROBINSON HELICOPTER                 221\n",
       "CIRRUS DESIGN CORP                  218\n",
       "AIR TRACTOR INC                     217\n",
       "Ayres                               215\n",
       "ROBINSON HELICOPTER COMPANY         179\n",
       "BELLANCA                            159\n",
       "Ercoupe (eng & Research Corp.)      156\n",
       "Sikorsky                            156\n",
       "Swearingen                          151\n",
       "AERONCA                             149\n",
       "MAULE                               144\n",
       "SCHWEIZER                           144\n",
       "Pitts                               141\n",
       "Balloon Works                       139\n",
       "HUGHES                              137\n",
       "Lake                                136\n",
       "Fairchild                           134\n",
       "EMBRAER                             130\n",
       "Mitsubishi                          129\n",
       "EUROCOPTER                          128\n",
       "Grumman-schweizer                   121\n",
       "Waco                                118\n",
       "Aviat                               112\n",
       "Let                                 112\n",
       "Lockheed                            112\n",
       "Learjet                             111\n",
       "Burkhart Grob                       110\n",
       "Embraer                             108\n",
       "Schleicher                          101\n",
       "AIR TRACTOR                          96\n",
       "LUSCOMBE                             95\n",
       "Helio                                94\n",
       "Ryan                                 94\n",
       "Name: Make, dtype: int64"
      ]
     },
     "execution_count": 38,
     "metadata": {},
     "output_type": "execute_result"
    }
   ],
   "source": [
    "# Checking to see whether or not the spellings of Mooney are now \"Mooney\"\n",
    "\n",
    "df['Make'].value_counts()[0:60]"
   ]
  },
  {
   "cell_type": "code",
   "execution_count": 39,
   "metadata": {},
   "outputs": [],
   "source": [
    "# Changing all of the spellings of Hughes to \"Hughes\"\n",
    "\n",
    "df.loc[df['Make'] == 'HUGHES', 'Make'] = \"Hughes\""
   ]
  },
  {
   "cell_type": "code",
   "execution_count": 40,
   "metadata": {},
   "outputs": [
    {
     "data": {
      "text/plain": [
       "Cessna                            27149\n",
       "Piper                             14870\n",
       "Beech                              5372\n",
       "Boeing                             2745\n",
       "Bell                               2722\n",
       "Grumman                            1396\n",
       "Mooney                             1334\n",
       "Robinson                           1230\n",
       "Hughes                              932\n",
       "Bellanca                            886\n",
       "Mcdonnell Douglas                   859\n",
       "Schweizer                           629\n",
       "Air Tractor                         595\n",
       "Aeronca                             487\n",
       "Maule                               445\n",
       "Airbus                              433\n",
       "Champion                            428\n",
       "De Havilland                        382\n",
       "Aero Commander                      360\n",
       "Stinson                             348\n",
       "Aerospatiale                        342\n",
       "Rockwell                            331\n",
       "Taylorcraft                         321\n",
       "Luscombe                            319\n",
       "Hiller                              311\n",
       "North American                      304\n",
       "Enstrom                             247\n",
       "ROBINSON HELICOPTER                 221\n",
       "CIRRUS DESIGN CORP                  218\n",
       "AIR TRACTOR INC                     217\n",
       "Ayres                               215\n",
       "ROBINSON HELICOPTER COMPANY         179\n",
       "BELLANCA                            159\n",
       "Sikorsky                            156\n",
       "Ercoupe (eng & Research Corp.)      156\n",
       "Swearingen                          151\n",
       "AERONCA                             149\n",
       "SCHWEIZER                           144\n",
       "MAULE                               144\n",
       "Pitts                               141\n",
       "Balloon Works                       139\n",
       "Lake                                136\n",
       "Fairchild                           134\n",
       "EMBRAER                             130\n",
       "Mitsubishi                          129\n",
       "EUROCOPTER                          128\n",
       "Grumman-schweizer                   121\n",
       "Waco                                118\n",
       "Let                                 112\n",
       "Aviat                               112\n",
       "Lockheed                            112\n",
       "Learjet                             111\n",
       "Burkhart Grob                       110\n",
       "Embraer                             108\n",
       "Schleicher                          101\n",
       "AIR TRACTOR                          96\n",
       "LUSCOMBE                             95\n",
       "Ryan                                 94\n",
       "Helio                                94\n",
       "Eurocopter                           92\n",
       "Name: Make, dtype: int64"
      ]
     },
     "execution_count": 40,
     "metadata": {},
     "output_type": "execute_result"
    }
   ],
   "source": [
    "# Checking to see whether or not the spellings of Hughes are now \"Hughes\"\n",
    "\n",
    "df['Make'].value_counts()[0:60]"
   ]
  },
  {
   "cell_type": "code",
   "execution_count": 41,
   "metadata": {},
   "outputs": [],
   "source": [
    "# Changing all of the spellings of Schweizer to \"Schweizer\"\n",
    "\n",
    "df.loc[df['Make'] == 'SCHWEIZER', 'Make'] = \"Schweizer\""
   ]
  },
  {
   "cell_type": "code",
   "execution_count": 42,
   "metadata": {},
   "outputs": [
    {
     "data": {
      "text/plain": [
       "Cessna                            27149\n",
       "Piper                             14870\n",
       "Beech                              5372\n",
       "Boeing                             2745\n",
       "Bell                               2722\n",
       "Grumman                            1396\n",
       "Mooney                             1334\n",
       "Robinson                           1230\n",
       "Hughes                              932\n",
       "Bellanca                            886\n",
       "Mcdonnell Douglas                   859\n",
       "Schweizer                           773\n",
       "Air Tractor                         595\n",
       "Aeronca                             487\n",
       "Maule                               445\n",
       "Airbus                              433\n",
       "Champion                            428\n",
       "De Havilland                        382\n",
       "Aero Commander                      360\n",
       "Stinson                             348\n",
       "Aerospatiale                        342\n",
       "Rockwell                            331\n",
       "Taylorcraft                         321\n",
       "Luscombe                            319\n",
       "Hiller                              311\n",
       "North American                      304\n",
       "Enstrom                             247\n",
       "ROBINSON HELICOPTER                 221\n",
       "CIRRUS DESIGN CORP                  218\n",
       "AIR TRACTOR INC                     217\n",
       "Ayres                               215\n",
       "ROBINSON HELICOPTER COMPANY         179\n",
       "BELLANCA                            159\n",
       "Ercoupe (eng & Research Corp.)      156\n",
       "Sikorsky                            156\n",
       "Swearingen                          151\n",
       "AERONCA                             149\n",
       "MAULE                               144\n",
       "Pitts                               141\n",
       "Balloon Works                       139\n",
       "Lake                                136\n",
       "Fairchild                           134\n",
       "EMBRAER                             130\n",
       "Mitsubishi                          129\n",
       "EUROCOPTER                          128\n",
       "Grumman-schweizer                   121\n",
       "Waco                                118\n",
       "Let                                 112\n",
       "Aviat                               112\n",
       "Lockheed                            112\n",
       "Learjet                             111\n",
       "Burkhart Grob                       110\n",
       "Embraer                             108\n",
       "Schleicher                          101\n",
       "AIR TRACTOR                          96\n",
       "LUSCOMBE                             95\n",
       "Ryan                                 94\n",
       "Helio                                94\n",
       "Eurocopter                           92\n",
       "DEHAVILLAND                          91\n",
       "Name: Make, dtype: int64"
      ]
     },
     "execution_count": 42,
     "metadata": {},
     "output_type": "execute_result"
    }
   ],
   "source": [
    "# Checking to see whether or not the spellings of Schweizer are now \"Schweizer\"\n",
    "\n",
    "df['Make'].value_counts()[0:60]"
   ]
  },
  {
   "cell_type": "code",
   "execution_count": 43,
   "metadata": {},
   "outputs": [],
   "source": [
    "# Changing all of the spellings of Aeronca to \"Aeronca\"\n",
    "\n",
    "df.loc[df['Make'] == 'AERONCA', 'Make'] = \"Aeronca\""
   ]
  },
  {
   "cell_type": "code",
   "execution_count": 44,
   "metadata": {},
   "outputs": [
    {
     "data": {
      "text/plain": [
       "Cessna                            27149\n",
       "Piper                             14870\n",
       "Beech                              5372\n",
       "Boeing                             2745\n",
       "Bell                               2722\n",
       "Grumman                            1396\n",
       "Mooney                             1334\n",
       "Robinson                           1230\n",
       "Hughes                              932\n",
       "Bellanca                            886\n",
       "Mcdonnell Douglas                   859\n",
       "Schweizer                           773\n",
       "Aeronca                             636\n",
       "Air Tractor                         595\n",
       "Maule                               445\n",
       "Airbus                              433\n",
       "Champion                            428\n",
       "De Havilland                        382\n",
       "Aero Commander                      360\n",
       "Stinson                             348\n",
       "Aerospatiale                        342\n",
       "Rockwell                            331\n",
       "Taylorcraft                         321\n",
       "Luscombe                            319\n",
       "Hiller                              311\n",
       "North American                      304\n",
       "Enstrom                             247\n",
       "ROBINSON HELICOPTER                 221\n",
       "CIRRUS DESIGN CORP                  218\n",
       "AIR TRACTOR INC                     217\n",
       "Ayres                               215\n",
       "ROBINSON HELICOPTER COMPANY         179\n",
       "BELLANCA                            159\n",
       "Ercoupe (eng & Research Corp.)      156\n",
       "Sikorsky                            156\n",
       "Swearingen                          151\n",
       "MAULE                               144\n",
       "Pitts                               141\n",
       "Balloon Works                       139\n",
       "Lake                                136\n",
       "Fairchild                           134\n",
       "EMBRAER                             130\n",
       "Mitsubishi                          129\n",
       "EUROCOPTER                          128\n",
       "Grumman-schweizer                   121\n",
       "Waco                                118\n",
       "Let                                 112\n",
       "Lockheed                            112\n",
       "Aviat                               112\n",
       "Learjet                             111\n",
       "Burkhart Grob                       110\n",
       "Embraer                             108\n",
       "Schleicher                          101\n",
       "AIR TRACTOR                          96\n",
       "LUSCOMBE                             95\n",
       "Ryan                                 94\n",
       "Helio                                94\n",
       "Eurocopter                           92\n",
       "CHAMPION                             91\n",
       "DEHAVILLAND                          91\n",
       "Name: Make, dtype: int64"
      ]
     },
     "execution_count": 44,
     "metadata": {},
     "output_type": "execute_result"
    }
   ],
   "source": [
    "# Checking to see whether or not the spellings of Aeronca are now \"Aeronca\"\n",
    "\n",
    "df['Make'].value_counts()[0:60]"
   ]
  },
  {
   "cell_type": "code",
   "execution_count": 45,
   "metadata": {},
   "outputs": [],
   "source": [
    "# Changing all of the spellings of Maule to \"Maule\"\n",
    "\n",
    "df.loc[df['Make'] == 'MAULE', 'Make'] = \"Maule\""
   ]
  },
  {
   "cell_type": "code",
   "execution_count": 46,
   "metadata": {},
   "outputs": [
    {
     "data": {
      "text/plain": [
       "Cessna                            27149\n",
       "Piper                             14870\n",
       "Beech                              5372\n",
       "Boeing                             2745\n",
       "Bell                               2722\n",
       "Grumman                            1396\n",
       "Mooney                             1334\n",
       "Robinson                           1230\n",
       "Hughes                              932\n",
       "Bellanca                            886\n",
       "Mcdonnell Douglas                   859\n",
       "Schweizer                           773\n",
       "Aeronca                             636\n",
       "Air Tractor                         595\n",
       "Maule                               589\n",
       "Airbus                              433\n",
       "Champion                            428\n",
       "De Havilland                        382\n",
       "Aero Commander                      360\n",
       "Stinson                             348\n",
       "Aerospatiale                        342\n",
       "Rockwell                            331\n",
       "Taylorcraft                         321\n",
       "Luscombe                            319\n",
       "Hiller                              311\n",
       "North American                      304\n",
       "Enstrom                             247\n",
       "ROBINSON HELICOPTER                 221\n",
       "CIRRUS DESIGN CORP                  218\n",
       "AIR TRACTOR INC                     217\n",
       "Ayres                               215\n",
       "ROBINSON HELICOPTER COMPANY         179\n",
       "BELLANCA                            159\n",
       "Sikorsky                            156\n",
       "Ercoupe (eng & Research Corp.)      156\n",
       "Swearingen                          151\n",
       "Pitts                               141\n",
       "Balloon Works                       139\n",
       "Lake                                136\n",
       "Fairchild                           134\n",
       "EMBRAER                             130\n",
       "Mitsubishi                          129\n",
       "EUROCOPTER                          128\n",
       "Grumman-schweizer                   121\n",
       "Waco                                118\n",
       "Let                                 112\n",
       "Lockheed                            112\n",
       "Aviat                               112\n",
       "Learjet                             111\n",
       "Burkhart Grob                       110\n",
       "Embraer                             108\n",
       "Schleicher                          101\n",
       "AIR TRACTOR                          96\n",
       "LUSCOMBE                             95\n",
       "Ryan                                 94\n",
       "Helio                                94\n",
       "Eurocopter                           92\n",
       "CHAMPION                             91\n",
       "DEHAVILLAND                          91\n",
       "STINSON                              91\n",
       "Name: Make, dtype: int64"
      ]
     },
     "execution_count": 46,
     "metadata": {},
     "output_type": "execute_result"
    }
   ],
   "source": [
    "# Checking to see whether or not the spellings of Maule are now \"Maule\"\n",
    "\n",
    "df['Make'].value_counts()[0:60]"
   ]
  },
  {
   "cell_type": "code",
   "execution_count": 47,
   "metadata": {},
   "outputs": [],
   "source": [
    "# Changing all of the spellings of Bellanca to \"Bellanca\"\n",
    "\n",
    "df.loc[df['Make'] == 'BELLANCA', 'Make'] = \"Bellanca\""
   ]
  },
  {
   "cell_type": "code",
   "execution_count": 48,
   "metadata": {},
   "outputs": [
    {
     "data": {
      "text/plain": [
       "Cessna                            27149\n",
       "Piper                             14870\n",
       "Beech                              5372\n",
       "Boeing                             2745\n",
       "Bell                               2722\n",
       "Grumman                            1396\n",
       "Mooney                             1334\n",
       "Robinson                           1230\n",
       "Bellanca                           1045\n",
       "Hughes                              932\n",
       "Mcdonnell Douglas                   859\n",
       "Schweizer                           773\n",
       "Aeronca                             636\n",
       "Air Tractor                         595\n",
       "Maule                               589\n",
       "Airbus                              433\n",
       "Champion                            428\n",
       "De Havilland                        382\n",
       "Aero Commander                      360\n",
       "Stinson                             348\n",
       "Aerospatiale                        342\n",
       "Rockwell                            331\n",
       "Taylorcraft                         321\n",
       "Luscombe                            319\n",
       "Hiller                              311\n",
       "North American                      304\n",
       "Enstrom                             247\n",
       "ROBINSON HELICOPTER                 221\n",
       "CIRRUS DESIGN CORP                  218\n",
       "AIR TRACTOR INC                     217\n",
       "Ayres                               215\n",
       "ROBINSON HELICOPTER COMPANY         179\n",
       "Sikorsky                            156\n",
       "Ercoupe (eng & Research Corp.)      156\n",
       "Swearingen                          151\n",
       "Pitts                               141\n",
       "Balloon Works                       139\n",
       "Lake                                136\n",
       "Fairchild                           134\n",
       "EMBRAER                             130\n",
       "Mitsubishi                          129\n",
       "EUROCOPTER                          128\n",
       "Grumman-schweizer                   121\n",
       "Waco                                118\n",
       "Aviat                               112\n",
       "Lockheed                            112\n",
       "Let                                 112\n",
       "Learjet                             111\n",
       "Burkhart Grob                       110\n",
       "Embraer                             108\n",
       "Schleicher                          101\n",
       "AIR TRACTOR                          96\n",
       "LUSCOMBE                             95\n",
       "Ryan                                 94\n",
       "Helio                                94\n",
       "Eurocopter                           92\n",
       "STINSON                              91\n",
       "DEHAVILLAND                          91\n",
       "CHAMPION                             91\n",
       "Aerostar                             87\n",
       "Name: Make, dtype: int64"
      ]
     },
     "execution_count": 48,
     "metadata": {},
     "output_type": "execute_result"
    }
   ],
   "source": [
    "# Checking to see whether or not the spellings of Bellanca are now \"Bellanca\"\n",
    "\n",
    "df['Make'].value_counts()[0:60]"
   ]
  },
  {
   "cell_type": "code",
   "execution_count": 49,
   "metadata": {},
   "outputs": [],
   "source": [
    "# Changing all of the spellings of Embraer to \"Embraer\"\n",
    "\n",
    "df.loc[df['Make'] == 'EMBRAER', 'Make'] = \"Embraer\""
   ]
  },
  {
   "cell_type": "code",
   "execution_count": 50,
   "metadata": {},
   "outputs": [
    {
     "data": {
      "text/plain": [
       "Cessna                            27149\n",
       "Piper                             14870\n",
       "Beech                              5372\n",
       "Boeing                             2745\n",
       "Bell                               2722\n",
       "Grumman                            1396\n",
       "Mooney                             1334\n",
       "Robinson                           1230\n",
       "Bellanca                           1045\n",
       "Hughes                              932\n",
       "Mcdonnell Douglas                   859\n",
       "Schweizer                           773\n",
       "Aeronca                             636\n",
       "Air Tractor                         595\n",
       "Maule                               589\n",
       "Airbus                              433\n",
       "Champion                            428\n",
       "De Havilland                        382\n",
       "Aero Commander                      360\n",
       "Stinson                             348\n",
       "Aerospatiale                        342\n",
       "Rockwell                            331\n",
       "Taylorcraft                         321\n",
       "Luscombe                            319\n",
       "Hiller                              311\n",
       "North American                      304\n",
       "Enstrom                             247\n",
       "Embraer                             238\n",
       "ROBINSON HELICOPTER                 221\n",
       "CIRRUS DESIGN CORP                  218\n",
       "AIR TRACTOR INC                     217\n",
       "Ayres                               215\n",
       "ROBINSON HELICOPTER COMPANY         179\n",
       "Ercoupe (eng & Research Corp.)      156\n",
       "Sikorsky                            156\n",
       "Swearingen                          151\n",
       "Pitts                               141\n",
       "Balloon Works                       139\n",
       "Lake                                136\n",
       "Fairchild                           134\n",
       "Mitsubishi                          129\n",
       "EUROCOPTER                          128\n",
       "Grumman-schweizer                   121\n",
       "Waco                                118\n",
       "Lockheed                            112\n",
       "Aviat                               112\n",
       "Let                                 112\n",
       "Learjet                             111\n",
       "Burkhart Grob                       110\n",
       "Schleicher                          101\n",
       "AIR TRACTOR                          96\n",
       "LUSCOMBE                             95\n",
       "Ryan                                 94\n",
       "Helio                                94\n",
       "Eurocopter                           92\n",
       "DEHAVILLAND                          91\n",
       "CHAMPION                             91\n",
       "STINSON                              91\n",
       "Aerostar                             87\n",
       "Weatherly                            87\n",
       "Name: Make, dtype: int64"
      ]
     },
     "execution_count": 50,
     "metadata": {},
     "output_type": "execute_result"
    }
   ],
   "source": [
    "# Checking to see whether or not the spellings of Embraer are now \"Embraer\"\n",
    "\n",
    "df['Make'].value_counts()[0:60]"
   ]
  },
  {
   "cell_type": "code",
   "execution_count": 51,
   "metadata": {},
   "outputs": [],
   "source": [
    "# Changing all of the spellings of Air Tractor to \"Air Tractor\"\n",
    "\n",
    "df.loc[df['Make'] == 'AIR TRACTOR INC', 'Make'] = \"Air Tractor\"\n",
    "df.loc[df['Make'] == 'AIR TRACTOR', 'Make'] = \"Air Tractor\""
   ]
  },
  {
   "cell_type": "code",
   "execution_count": 52,
   "metadata": {},
   "outputs": [
    {
     "data": {
      "text/plain": [
       "Cessna                            27149\n",
       "Piper                             14870\n",
       "Beech                              5372\n",
       "Boeing                             2745\n",
       "Bell                               2722\n",
       "Grumman                            1396\n",
       "Mooney                             1334\n",
       "Robinson                           1230\n",
       "Bellanca                           1045\n",
       "Hughes                              932\n",
       "Air Tractor                         908\n",
       "Mcdonnell Douglas                   859\n",
       "Schweizer                           773\n",
       "Aeronca                             636\n",
       "Maule                               589\n",
       "Airbus                              433\n",
       "Champion                            428\n",
       "De Havilland                        382\n",
       "Aero Commander                      360\n",
       "Stinson                             348\n",
       "Aerospatiale                        342\n",
       "Rockwell                            331\n",
       "Taylorcraft                         321\n",
       "Luscombe                            319\n",
       "Hiller                              311\n",
       "North American                      304\n",
       "Enstrom                             247\n",
       "Embraer                             238\n",
       "ROBINSON HELICOPTER                 221\n",
       "CIRRUS DESIGN CORP                  218\n",
       "Ayres                               215\n",
       "ROBINSON HELICOPTER COMPANY         179\n",
       "Ercoupe (eng & Research Corp.)      156\n",
       "Sikorsky                            156\n",
       "Swearingen                          151\n",
       "Pitts                               141\n",
       "Balloon Works                       139\n",
       "Lake                                136\n",
       "Fairchild                           134\n",
       "Mitsubishi                          129\n",
       "EUROCOPTER                          128\n",
       "Grumman-schweizer                   121\n",
       "Waco                                118\n",
       "Let                                 112\n",
       "Aviat                               112\n",
       "Lockheed                            112\n",
       "Learjet                             111\n",
       "Burkhart Grob                       110\n",
       "Schleicher                          101\n",
       "LUSCOMBE                             95\n",
       "Ryan                                 94\n",
       "Helio                                94\n",
       "Eurocopter                           92\n",
       "DEHAVILLAND                          91\n",
       "CHAMPION                             91\n",
       "STINSON                              91\n",
       "Aerostar                             87\n",
       "Weatherly                            87\n",
       "Raven                                86\n",
       "British Aerospace                    85\n",
       "Name: Make, dtype: int64"
      ]
     },
     "execution_count": 52,
     "metadata": {},
     "output_type": "execute_result"
    }
   ],
   "source": [
    "# Checking to see whether or not the spellings of Air Tractor are now \"Air Tractor\"\n",
    "\n",
    "df['Make'].value_counts()[0:60]"
   ]
  },
  {
   "cell_type": "code",
   "execution_count": 53,
   "metadata": {},
   "outputs": [],
   "source": [
    "# Changing all of the spellings of Luscombe to \"Luscombe\"\n",
    "\n",
    "df.loc[df['Make'] == 'LUSCOMBE', 'Make'] = \"Luscombe\""
   ]
  },
  {
   "cell_type": "code",
   "execution_count": 54,
   "metadata": {},
   "outputs": [
    {
     "data": {
      "text/plain": [
       "Cessna                            27149\n",
       "Piper                             14870\n",
       "Beech                              5372\n",
       "Boeing                             2745\n",
       "Bell                               2722\n",
       "Grumman                            1396\n",
       "Mooney                             1334\n",
       "Robinson                           1230\n",
       "Bellanca                           1045\n",
       "Hughes                              932\n",
       "Air Tractor                         908\n",
       "Mcdonnell Douglas                   859\n",
       "Schweizer                           773\n",
       "Aeronca                             636\n",
       "Maule                               589\n",
       "Airbus                              433\n",
       "Champion                            428\n",
       "Luscombe                            414\n",
       "De Havilland                        382\n",
       "Aero Commander                      360\n",
       "Stinson                             348\n",
       "Aerospatiale                        342\n",
       "Rockwell                            331\n",
       "Taylorcraft                         321\n",
       "Hiller                              311\n",
       "North American                      304\n",
       "Enstrom                             247\n",
       "Embraer                             238\n",
       "ROBINSON HELICOPTER                 221\n",
       "CIRRUS DESIGN CORP                  218\n",
       "Ayres                               215\n",
       "ROBINSON HELICOPTER COMPANY         179\n",
       "Sikorsky                            156\n",
       "Ercoupe (eng & Research Corp.)      156\n",
       "Swearingen                          151\n",
       "Pitts                               141\n",
       "Balloon Works                       139\n",
       "Lake                                136\n",
       "Fairchild                           134\n",
       "Mitsubishi                          129\n",
       "EUROCOPTER                          128\n",
       "Grumman-schweizer                   121\n",
       "Waco                                118\n",
       "Lockheed                            112\n",
       "Let                                 112\n",
       "Aviat                               112\n",
       "Learjet                             111\n",
       "Burkhart Grob                       110\n",
       "Schleicher                          101\n",
       "Helio                                94\n",
       "Ryan                                 94\n",
       "Eurocopter                           92\n",
       "CHAMPION                             91\n",
       "DEHAVILLAND                          91\n",
       "STINSON                              91\n",
       "Weatherly                            87\n",
       "Aerostar                             87\n",
       "Raven                                86\n",
       "British Aerospace                    85\n",
       "Globe                                81\n",
       "Name: Make, dtype: int64"
      ]
     },
     "execution_count": 54,
     "metadata": {},
     "output_type": "execute_result"
    }
   ],
   "source": [
    "# Checking to see whether or not the spellings of Luscombe are now \"Luscombe\"\n",
    "\n",
    "df['Make'].value_counts()[0:60]"
   ]
  },
  {
   "cell_type": "code",
   "execution_count": 55,
   "metadata": {},
   "outputs": [],
   "source": [
    "# Changing all of the spellings of De Havilland to \"De Havilland\"\n",
    "\n",
    "df.loc[df['Make'] == 'DEHAVILLAND', 'Make'] = \"De Havilland\""
   ]
  },
  {
   "cell_type": "code",
   "execution_count": 56,
   "metadata": {},
   "outputs": [
    {
     "data": {
      "text/plain": [
       "Cessna                            27149\n",
       "Piper                             14870\n",
       "Beech                              5372\n",
       "Boeing                             2745\n",
       "Bell                               2722\n",
       "Grumman                            1396\n",
       "Mooney                             1334\n",
       "Robinson                           1230\n",
       "Bellanca                           1045\n",
       "Hughes                              932\n",
       "Air Tractor                         908\n",
       "Mcdonnell Douglas                   859\n",
       "Schweizer                           773\n",
       "Aeronca                             636\n",
       "Maule                               589\n",
       "De Havilland                        473\n",
       "Airbus                              433\n",
       "Champion                            428\n",
       "Luscombe                            414\n",
       "Aero Commander                      360\n",
       "Stinson                             348\n",
       "Aerospatiale                        342\n",
       "Rockwell                            331\n",
       "Taylorcraft                         321\n",
       "Hiller                              311\n",
       "North American                      304\n",
       "Enstrom                             247\n",
       "Embraer                             238\n",
       "ROBINSON HELICOPTER                 221\n",
       "CIRRUS DESIGN CORP                  218\n",
       "Ayres                               215\n",
       "ROBINSON HELICOPTER COMPANY         179\n",
       "Sikorsky                            156\n",
       "Ercoupe (eng & Research Corp.)      156\n",
       "Swearingen                          151\n",
       "Pitts                               141\n",
       "Balloon Works                       139\n",
       "Lake                                136\n",
       "Fairchild                           134\n",
       "Mitsubishi                          129\n",
       "EUROCOPTER                          128\n",
       "Grumman-schweizer                   121\n",
       "Waco                                118\n",
       "Lockheed                            112\n",
       "Aviat                               112\n",
       "Let                                 112\n",
       "Learjet                             111\n",
       "Burkhart Grob                       110\n",
       "Schleicher                          101\n",
       "Ryan                                 94\n",
       "Helio                                94\n",
       "Eurocopter                           92\n",
       "CHAMPION                             91\n",
       "STINSON                              91\n",
       "Weatherly                            87\n",
       "Aerostar                             87\n",
       "Raven                                86\n",
       "British Aerospace                    85\n",
       "Globe                                81\n",
       "CIRRUS                               80\n",
       "Name: Make, dtype: int64"
      ]
     },
     "execution_count": 56,
     "metadata": {},
     "output_type": "execute_result"
    }
   ],
   "source": [
    "# Checking to see whether or not the spellings of De Havilland are now \"De Havilland\"\n",
    "\n",
    "df['Make'].value_counts()[0:60]"
   ]
  },
  {
   "cell_type": "code",
   "execution_count": 57,
   "metadata": {},
   "outputs": [],
   "source": [
    "# Changing all of the spellings of Stinson to \"Stinson\"\n",
    "\n",
    "df.loc[df['Make'] == 'STINSON', 'Make'] = \"Stinson\""
   ]
  },
  {
   "cell_type": "code",
   "execution_count": 58,
   "metadata": {},
   "outputs": [
    {
     "data": {
      "text/plain": [
       "Cessna                            27149\n",
       "Piper                             14870\n",
       "Beech                              5372\n",
       "Boeing                             2745\n",
       "Bell                               2722\n",
       "Grumman                            1396\n",
       "Mooney                             1334\n",
       "Robinson                           1230\n",
       "Bellanca                           1045\n",
       "Hughes                              932\n",
       "Air Tractor                         908\n",
       "Mcdonnell Douglas                   859\n",
       "Schweizer                           773\n",
       "Aeronca                             636\n",
       "Maule                               589\n",
       "De Havilland                        473\n",
       "Stinson                             439\n",
       "Airbus                              433\n",
       "Champion                            428\n",
       "Luscombe                            414\n",
       "Aero Commander                      360\n",
       "Aerospatiale                        342\n",
       "Rockwell                            331\n",
       "Taylorcraft                         321\n",
       "Hiller                              311\n",
       "North American                      304\n",
       "Enstrom                             247\n",
       "Embraer                             238\n",
       "ROBINSON HELICOPTER                 221\n",
       "CIRRUS DESIGN CORP                  218\n",
       "Ayres                               215\n",
       "ROBINSON HELICOPTER COMPANY         179\n",
       "Ercoupe (eng & Research Corp.)      156\n",
       "Sikorsky                            156\n",
       "Swearingen                          151\n",
       "Pitts                               141\n",
       "Balloon Works                       139\n",
       "Lake                                136\n",
       "Fairchild                           134\n",
       "Mitsubishi                          129\n",
       "EUROCOPTER                          128\n",
       "Grumman-schweizer                   121\n",
       "Waco                                118\n",
       "Lockheed                            112\n",
       "Let                                 112\n",
       "Aviat                               112\n",
       "Learjet                             111\n",
       "Burkhart Grob                       110\n",
       "Schleicher                          101\n",
       "Helio                                94\n",
       "Ryan                                 94\n",
       "Eurocopter                           92\n",
       "CHAMPION                             91\n",
       "Aerostar                             87\n",
       "Weatherly                            87\n",
       "Raven                                86\n",
       "British Aerospace                    85\n",
       "Globe                                81\n",
       "CIRRUS                               80\n",
       "NORTH AMERICAN                       79\n",
       "Name: Make, dtype: int64"
      ]
     },
     "execution_count": 58,
     "metadata": {},
     "output_type": "execute_result"
    }
   ],
   "source": [
    "# Checking to see whether or not the spellings of Stinson are now \"Stinson\"\n",
    "\n",
    "df['Make'].value_counts()[0:60]"
   ]
  },
  {
   "cell_type": "code",
   "execution_count": 59,
   "metadata": {},
   "outputs": [],
   "source": [
    "# Changing all of the spellings of North American to \"North American\"\n",
    "\n",
    "df.loc[df['Make'] == 'NORTH AMERICAN', 'Make'] = \"North American\""
   ]
  },
  {
   "cell_type": "code",
   "execution_count": 60,
   "metadata": {},
   "outputs": [
    {
     "data": {
      "text/plain": [
       "Cessna                            27149\n",
       "Piper                             14870\n",
       "Beech                              5372\n",
       "Boeing                             2745\n",
       "Bell                               2722\n",
       "Grumman                            1396\n",
       "Mooney                             1334\n",
       "Robinson                           1230\n",
       "Bellanca                           1045\n",
       "Hughes                              932\n",
       "Air Tractor                         908\n",
       "Mcdonnell Douglas                   859\n",
       "Schweizer                           773\n",
       "Aeronca                             636\n",
       "Maule                               589\n",
       "De Havilland                        473\n",
       "Stinson                             439\n",
       "Airbus                              433\n",
       "Champion                            428\n",
       "Luscombe                            414\n",
       "North American                      383\n",
       "Aero Commander                      360\n",
       "Aerospatiale                        342\n",
       "Rockwell                            331\n",
       "Taylorcraft                         321\n",
       "Hiller                              311\n",
       "Enstrom                             247\n",
       "Embraer                             238\n",
       "ROBINSON HELICOPTER                 221\n",
       "CIRRUS DESIGN CORP                  218\n",
       "Ayres                               215\n",
       "ROBINSON HELICOPTER COMPANY         179\n",
       "Sikorsky                            156\n",
       "Ercoupe (eng & Research Corp.)      156\n",
       "Swearingen                          151\n",
       "Pitts                               141\n",
       "Balloon Works                       139\n",
       "Lake                                136\n",
       "Fairchild                           134\n",
       "Mitsubishi                          129\n",
       "EUROCOPTER                          128\n",
       "Grumman-schweizer                   121\n",
       "Waco                                118\n",
       "Let                                 112\n",
       "Lockheed                            112\n",
       "Aviat                               112\n",
       "Learjet                             111\n",
       "Burkhart Grob                       110\n",
       "Schleicher                          101\n",
       "Ryan                                 94\n",
       "Helio                                94\n",
       "Eurocopter                           92\n",
       "CHAMPION                             91\n",
       "Aerostar                             87\n",
       "Weatherly                            87\n",
       "Raven                                86\n",
       "British Aerospace                    85\n",
       "Globe                                81\n",
       "CIRRUS                               80\n",
       "SIKORSKY                             77\n",
       "Name: Make, dtype: int64"
      ]
     },
     "execution_count": 60,
     "metadata": {},
     "output_type": "execute_result"
    }
   ],
   "source": [
    "# Checking to see whether or not the spellings of North American are now \"North American\"\n",
    "\n",
    "df['Make'].value_counts()[0:60]"
   ]
  },
  {
   "cell_type": "code",
   "execution_count": 61,
   "metadata": {},
   "outputs": [],
   "source": [
    "# Changing all of the spellings of Sikorsky to \"Sikorsky\"\n",
    "\n",
    "df.loc[df['Make'] == 'SIKORSKY', 'Make'] = \"Sikorsky\""
   ]
  },
  {
   "cell_type": "code",
   "execution_count": 62,
   "metadata": {},
   "outputs": [
    {
     "data": {
      "text/plain": [
       "Cessna                            27149\n",
       "Piper                             14870\n",
       "Beech                              5372\n",
       "Boeing                             2745\n",
       "Bell                               2722\n",
       "Grumman                            1396\n",
       "Mooney                             1334\n",
       "Robinson                           1230\n",
       "Bellanca                           1045\n",
       "Hughes                              932\n",
       "Air Tractor                         908\n",
       "Mcdonnell Douglas                   859\n",
       "Schweizer                           773\n",
       "Aeronca                             636\n",
       "Maule                               589\n",
       "De Havilland                        473\n",
       "Stinson                             439\n",
       "Airbus                              433\n",
       "Champion                            428\n",
       "Luscombe                            414\n",
       "North American                      383\n",
       "Aero Commander                      360\n",
       "Aerospatiale                        342\n",
       "Rockwell                            331\n",
       "Taylorcraft                         321\n",
       "Hiller                              311\n",
       "Enstrom                             247\n",
       "Embraer                             238\n",
       "Sikorsky                            233\n",
       "ROBINSON HELICOPTER                 221\n",
       "CIRRUS DESIGN CORP                  218\n",
       "Ayres                               215\n",
       "ROBINSON HELICOPTER COMPANY         179\n",
       "Ercoupe (eng & Research Corp.)      156\n",
       "Swearingen                          151\n",
       "Pitts                               141\n",
       "Balloon Works                       139\n",
       "Lake                                136\n",
       "Fairchild                           134\n",
       "Mitsubishi                          129\n",
       "EUROCOPTER                          128\n",
       "Grumman-schweizer                   121\n",
       "Waco                                118\n",
       "Let                                 112\n",
       "Lockheed                            112\n",
       "Aviat                               112\n",
       "Learjet                             111\n",
       "Burkhart Grob                       110\n",
       "Schleicher                          101\n",
       "Ryan                                 94\n",
       "Helio                                94\n",
       "Eurocopter                           92\n",
       "CHAMPION                             91\n",
       "Aerostar                             87\n",
       "Weatherly                            87\n",
       "Raven                                86\n",
       "British Aerospace                    85\n",
       "Globe                                81\n",
       "CIRRUS                               80\n",
       "Wsk Pzl Mielec                       77\n",
       "Name: Make, dtype: int64"
      ]
     },
     "execution_count": 62,
     "metadata": {},
     "output_type": "execute_result"
    }
   ],
   "source": [
    "# Checking to see whether or not the spellings of Sikorsky are now \"Sikorsky\"\n",
    "\n",
    "df['Make'].value_counts()[0:60]"
   ]
  },
  {
   "cell_type": "code",
   "execution_count": 63,
   "metadata": {},
   "outputs": [
    {
     "data": {
      "text/plain": [
       "8211"
      ]
     },
     "execution_count": 63,
     "metadata": {},
     "output_type": "execute_result"
    }
   ],
   "source": [
    "df['Make'].nunique()"
   ]
  },
  {
   "cell_type": "code",
   "execution_count": 64,
   "metadata": {},
   "outputs": [
    {
     "data": {
      "text/plain": [
       "Cessna               27149\n",
       "Piper                14870\n",
       "Beech                 5372\n",
       "Boeing                2745\n",
       "Bell                  2722\n",
       "Grumman               1396\n",
       "Mooney                1334\n",
       "Robinson              1230\n",
       "Bellanca              1045\n",
       "Hughes                 932\n",
       "Air Tractor            908\n",
       "Mcdonnell Douglas      859\n",
       "Schweizer              773\n",
       "Aeronca                636\n",
       "Maule                  589\n",
       "De Havilland           473\n",
       "Stinson                439\n",
       "Airbus                 433\n",
       "Champion               428\n",
       "Luscombe               414\n",
       "Name: Make, dtype: int64"
      ]
     },
     "execution_count": 64,
     "metadata": {},
     "output_type": "execute_result"
    }
   ],
   "source": [
    "df['Make'].value_counts()[0:20]"
   ]
  },
  {
   "cell_type": "markdown",
   "metadata": {},
   "source": [
    "I want to start adding the number of fatalities for each Aircraft Manufacturer.  As noted in the following code - df['Make'].nunique() - there are 8,211 unique Aircraft Manufacturers in the Aviation Data file.  As a result, I do not think it is worthwhile to calculate the number of fatalities for each Aircraft Manufacturer.  I will consider the Aircraft Manufacturers within the top 20 Value Counts."
   ]
  },
  {
   "cell_type": "code",
   "execution_count": 65,
   "metadata": {},
   "outputs": [],
   "source": [
    "top_20_Aircraft_Make = df['Make'].value_counts().index.tolist()[0:20]"
   ]
  },
  {
   "cell_type": "code",
   "execution_count": 66,
   "metadata": {},
   "outputs": [
    {
     "name": "stdout",
     "output_type": "stream",
     "text": [
      "['Cessna', 'Piper', 'Beech', 'Boeing', 'Bell', 'Grumman', 'Mooney', 'Robinson', 'Bellanca', 'Hughes', 'Air Tractor', 'Mcdonnell Douglas', 'Schweizer', 'Aeronca', 'Maule', 'De Havilland', 'Stinson', 'Airbus', 'Champion', 'Luscombe']\n"
     ]
    },
    {
     "data": {
      "text/plain": [
       "20"
      ]
     },
     "execution_count": 66,
     "metadata": {},
     "output_type": "execute_result"
    }
   ],
   "source": [
    "# Checking whether or not I have 20 objects in the aforementioned list - \"top_20_Aircraft_Make\"\n",
    "\n",
    "print(top_20_Aircraft_Make)\n",
    "len(top_20_Aircraft_Make)"
   ]
  },
  {
   "cell_type": "code",
   "execution_count": 67,
   "metadata": {},
   "outputs": [],
   "source": [
    "# Making a list of the Value Counts associated with the following list - \"top_20_Aircraft_Make\"\n",
    "\n",
    "top_20_Aircraft_Make_value_count = list(df['Make'].value_counts()[0:20])"
   ]
  },
  {
   "cell_type": "code",
   "execution_count": 68,
   "metadata": {},
   "outputs": [
    {
     "name": "stdout",
     "output_type": "stream",
     "text": [
      "[27149, 14870, 5372, 2745, 2722, 1396, 1334, 1230, 1045, 932, 908, 859, 773, 636, 589, 473, 439, 433, 428, 414]\n"
     ]
    },
    {
     "data": {
      "text/plain": [
       "20"
      ]
     },
     "execution_count": 68,
     "metadata": {},
     "output_type": "execute_result"
    }
   ],
   "source": [
    "# Checking the values of the list and examining whether or not there are 20 numbers within the list\n",
    "\n",
    "print(top_20_Aircraft_Make_value_count)\n",
    "len(top_20_Aircraft_Make_value_count)"
   ]
  },
  {
   "cell_type": "code",
   "execution_count": 69,
   "metadata": {},
   "outputs": [
    {
     "name": "stdout",
     "output_type": "stream",
     "text": [
      "['Cessna', 'Piper', 'Beech', 'Boeing', 'Bell', 'Grumman', 'Mooney', 'Robinson', 'Bellanca', 'Hughes', 'Air Tractor', 'Mcdonnell Douglas', 'Schweizer', 'Aeronca', 'Maule', 'De Havilland', 'Stinson', 'Airbus', 'Champion', 'Luscombe']\n"
     ]
    }
   ],
   "source": [
    "print(top_20_Aircraft_Make)"
   ]
  },
  {
   "cell_type": "code",
   "execution_count": 70,
   "metadata": {},
   "outputs": [],
   "source": [
    "# Calculating the total number of fatalities for the Aircraft Manufacturers with the Top 20 Value Counts\n",
    "\n",
    "top_20_fatalities = []\n",
    "\n",
    "for make in top_20_Aircraft_Make:\n",
    "    fatalities = (df.loc[df['Make'] == make, 'Total.Fatal.Injuries']).sum(skipna=True, numeric_only=False)\n",
    "    top_20_fatalities.append(fatalities)"
   ]
  },
  {
   "cell_type": "code",
   "execution_count": 71,
   "metadata": {},
   "outputs": [
    {
     "name": "stdout",
     "output_type": "stream",
     "text": [
      "[9641.0, 6689.0, 3784.0, 8748.0, 1332.0, 359.0, 685.0, 618.0, 345.0, 203.0, 161.0, 2246.0, 89.0, 118.0, 110.0, 367.0, 71.0, 2349.0, 111.0, 71.0]\n"
     ]
    },
    {
     "data": {
      "text/plain": [
       "20"
      ]
     },
     "execution_count": 71,
     "metadata": {},
     "output_type": "execute_result"
    }
   ],
   "source": [
    "print(top_20_fatalities)\n",
    "len(top_20_fatalities)"
   ]
  },
  {
   "cell_type": "markdown",
   "metadata": {},
   "source": [
    "## Data Normalization\n",
    "\n",
    "Each Aircraft Manufacturer has a different number of records in the Aviation Data file.  As a result, the data needs to be normalized.  One approach is to calculate the number of Aircraft Manufacturer fatalities, and then divide by the number of Aircraft Manufacturer Records."
   ]
  },
  {
   "cell_type": "code",
   "execution_count": 72,
   "metadata": {},
   "outputs": [],
   "source": [
    "import numpy as np"
   ]
  },
  {
   "cell_type": "code",
   "execution_count": 73,
   "metadata": {},
   "outputs": [],
   "source": [
    "# Normalizing the data by dividing fatalities by value count via numpy\n",
    "\n",
    "top_20_fatalities_normalized = np.divide(top_20_fatalities, top_20_Aircraft_Make_value_count)"
   ]
  },
  {
   "cell_type": "code",
   "execution_count": 74,
   "metadata": {},
   "outputs": [
    {
     "name": "stdout",
     "output_type": "stream",
     "text": [
      "[0.35511437 0.44983188 0.70439315 3.18688525 0.48934607 0.25716332\n",
      " 0.51349325 0.50243902 0.33014354 0.21781116 0.17731278 2.61466822\n",
      " 0.11513583 0.18553459 0.18675722 0.77589852 0.16173121 5.42494226\n",
      " 0.25934579 0.17149758]\n"
     ]
    },
    {
     "data": {
      "text/plain": [
       "20"
      ]
     },
     "execution_count": 74,
     "metadata": {},
     "output_type": "execute_result"
    }
   ],
   "source": [
    "# Checking to see what the normalized data looks like and the length of the 'top_20_fatalities_normalized' list\n",
    "\n",
    "print(top_20_fatalities_normalized)\n",
    "\n",
    "len(top_20_fatalities_normalized)"
   ]
  },
  {
   "cell_type": "code",
   "execution_count": 75,
   "metadata": {},
   "outputs": [
    {
     "name": "stdout",
     "output_type": "stream",
     "text": [
      "[0.36, 0.45, 0.7, 3.19, 0.49, 0.26, 0.51, 0.5, 0.33, 0.22, 0.18, 2.61, 0.12, 0.19, 0.19, 0.78, 0.16, 5.42, 0.26, 0.17]\n"
     ]
    }
   ],
   "source": [
    "# I am going to minimize the number of decimals being printed\n",
    "\n",
    "rounded_top_20_fatalities_normalized = [round(value, 2) for value in top_20_fatalities_normalized]\n",
    "\n",
    "print(rounded_top_20_fatalities_normalized)"
   ]
  },
  {
   "cell_type": "code",
   "execution_count": 76,
   "metadata": {},
   "outputs": [
    {
     "name": "stdout",
     "output_type": "stream",
     "text": [
      "[('Cessna', 0.36), ('Piper', 0.45), ('Beech', 0.7), ('Boeing', 3.19), ('Bell', 0.49), ('Grumman', 0.26), ('Mooney', 0.51), ('Robinson', 0.5), ('Bellanca', 0.33), ('Hughes', 0.22), ('Air Tractor', 0.18), ('Mcdonnell Douglas', 2.61), ('Schweizer', 0.12), ('Aeronca', 0.19), ('Maule', 0.19), ('De Havilland', 0.78), ('Stinson', 0.16), ('Airbus', 5.42), ('Champion', 0.26), ('Luscombe', 0.17)]\n"
     ]
    }
   ],
   "source": [
    "# I am going to make a tuple of Aircraft Make and its respective fatalities figure normalized\n",
    "\n",
    "top_20_aircraft_make_fatalities_normalized = list(zip(top_20_Aircraft_Make, rounded_top_20_fatalities_normalized))\n",
    "print(top_20_aircraft_make_fatalities_normalized)"
   ]
  },
  {
   "cell_type": "code",
   "execution_count": 94,
   "metadata": {},
   "outputs": [
    {
     "data": {
      "text/plain": [
       "<Figure size 1440x720 with 0 Axes>"
      ]
     },
     "metadata": {},
     "output_type": "display_data"
    },
    {
     "data": {
      "image/png": "[encoded data removed]",
      "text/plain": [
       "<Figure size 432x288 with 1 Axes>"
      ]
     },
     "metadata": {
      "needs_background": "light"
     },
     "output_type": "display_data"
    },
    {
     "data": {
      "text/plain": [
       "<Figure size 432x288 with 0 Axes>"
      ]
     },
     "metadata": {},
     "output_type": "display_data"
    }
   ],
   "source": [
    "# Create a bar chart of Aircraft Manufacturers vs. Fatalities\n",
    "\n",
    "plt.figure(figsize=(20, 10)) \n",
    "\n",
    "fig, ax = plt.subplots()\n",
    "\n",
    "x = top_20_Aircraft_Make\n",
    "y = rounded_top_20_fatalities_normalized\n",
    "\n",
    "# Plot the data\n",
    "ax.bar(x, y)\n",
    "\n",
    "bars = ax.bar(x, y)\n",
    "\n",
    "ax.set_title('Number of Fatalities per Aircraft Manufacturer Record')\n",
    "#ax.set_xlabel('Aircraft Make')\n",
    "#ax.set_ylabel('Fatalities per Aircraft Manufacturer Record')\n",
    "\n",
    "# Set the tick positions\n",
    "ax.set_xticks(range(len(x)))\n",
    "\n",
    "# Rotate x-axis labels\n",
    "ax.set_xticklabels(x, rotation=90)\n",
    "\n",
    "# Increase font size of x-axis labels\n",
    "ax.tick_params(axis='x', labelsize=10)\n",
    "\n",
    "# Adjust width of bar chart\n",
    "plt.subplots_adjust(left=0.2, right=2)\n",
    "\n",
    "# Show the numerical values for each Aircraft Manufacturer\n",
    "for bar in bars:\n",
    "    height = bar.get_height()\n",
    "    ax.text(bar.get_x() + bar.get_width() / 2, height, height, ha='center', va='bottom')\n",
    "\n",
    "plt.show()\n",
    "\n",
    "# Creating an image of the following bar chart - \"Number of Fatalities per Aircraft Manufacturer Record\"\n",
    "\n",
    "#plt.savefig(\"fatalities.jpg\")"
   ]
  },
  {
   "cell_type": "markdown",
   "metadata": {},
   "source": [
    "## 1) Recommendations for Aircraft Manufacturers based upon fatalities per Aircraft Manufacturer Record\n",
    "\n",
    "Based on the bar chart - Schweizer (0.12), Stinson (0.16), Luscombe (0.17), Air Tractor (0.18), Aeronca (0.19), and Maule (0.19) - have the lowest number of fatalities per Aircraft Manufacturer record.\n",
    "\n",
    "However, Schweizer, Stinson, Luscombe, Hughes, and Champion are no longer in existence.\n",
    "\n",
    "\n",
    "Schweizer (0.12) is no longer in existence - https://en.wikipedia.org/wiki/Schweizer_Aircraft\n",
    "\n",
    "Stinson (0.16) is no longer in existence - https://en.wikipedia.org/wiki/Stinson_Aircraft_Company\n",
    "\n",
    "Luscombe (0.17) is no longer in existence - https://en.wikipedia.org/wiki/Luscombe_Aircraft\n",
    "\n",
    "Hughes (0.22) no longer exists - https://en.wikipedia.org/wiki/Hughes_Aircraft_Company\n",
    "\n",
    "Champion (0.26) was purchased by Bellanca - https://en.wikipedia.org/wiki/Champion_Aircraft \n",
    "\n",
    "\n",
    "My recommendation for Aircraft Manufactures are the following: Air Tractor (0.18), Aeronca (0.19), Maule (0.19), Grumman (0.26) and Bellanca (0.33)."
   ]
  },
  {
   "cell_type": "code",
   "execution_count": 78,
   "metadata": {},
   "outputs": [],
   "source": [
    "# Calculating the total number of serious injuries for the Aircraft Manufacturers with the Top 20 Value Counts\n",
    "\n",
    "top_20_serious_injuries = []\n",
    "\n",
    "for make in top_20_Aircraft_Make:\n",
    "    total_serious_injuries = (df.loc[df['Make'] == make, 'Total.Serious.Injuries']).sum(skipna=True, numeric_only=False)\n",
    "    top_20_serious_injuries.append(total_serious_injuries)"
   ]
  },
  {
   "cell_type": "code",
   "execution_count": 79,
   "metadata": {},
   "outputs": [
    {
     "name": "stdout",
     "output_type": "stream",
     "text": [
      "[4894.0, 3059.0, 1095.0, 2157.0, 878.0, 197.0, 248.0, 223.0, 196.0, 229.0, 110.0, 652.0, 172.0, 156.0, 63.0, 187.0, 94.0, 323.0, 71.0, 71.0]\n"
     ]
    },
    {
     "data": {
      "text/plain": [
       "20"
      ]
     },
     "execution_count": 79,
     "metadata": {},
     "output_type": "execute_result"
    }
   ],
   "source": [
    "# Examining what the data looks like in the following list - top_20_serious_injuries\n",
    "\n",
    "print(top_20_serious_injuries)\n",
    "len(top_20_serious_injuries)"
   ]
  },
  {
   "cell_type": "code",
   "execution_count": 80,
   "metadata": {},
   "outputs": [],
   "source": [
    "# Normalizing the data by dividing total serious injuries by Aircraft Manufacturer value count via numpy\n",
    "\n",
    "top_20_serious_injuries_normalized = np.divide(top_20_serious_injuries, top_20_Aircraft_Make_value_count)"
   ]
  },
  {
   "cell_type": "code",
   "execution_count": 81,
   "metadata": {},
   "outputs": [
    {
     "name": "stdout",
     "output_type": "stream",
     "text": [
      "[0.18026447 0.20571621 0.2038347  0.78579235 0.32255694 0.14111748\n",
      " 0.18590705 0.18130081 0.18755981 0.24570815 0.12114537 0.75902212\n",
      " 0.2225097  0.24528302 0.10696095 0.39534884 0.21412301 0.74595843\n",
      " 0.16588785 0.17149758]\n"
     ]
    },
    {
     "data": {
      "text/plain": [
       "20"
      ]
     },
     "execution_count": 81,
     "metadata": {},
     "output_type": "execute_result"
    }
   ],
   "source": [
    "# Checking to see what the normalized data looks like and the length of the 'top_20_serious_injuries_normalized' list\n",
    "\n",
    "print(top_20_serious_injuries_normalized)\n",
    "\n",
    "len(top_20_serious_injuries_normalized)"
   ]
  },
  {
   "cell_type": "code",
   "execution_count": 82,
   "metadata": {},
   "outputs": [
    {
     "name": "stdout",
     "output_type": "stream",
     "text": [
      "[0.18, 0.21, 0.2, 0.79, 0.32, 0.14, 0.19, 0.18, 0.19, 0.25, 0.12, 0.76, 0.22, 0.25, 0.11, 0.4, 0.21, 0.75, 0.17, 0.17]\n"
     ]
    }
   ],
   "source": [
    "# I am going to minimize the number of decimals being printed\n",
    "\n",
    "rounded_top_20_serious_injuries_normalized = [round(value, 2) for value in top_20_serious_injuries_normalized]\n",
    "\n",
    "print(rounded_top_20_serious_injuries_normalized)"
   ]
  },
  {
   "cell_type": "code",
   "execution_count": 83,
   "metadata": {},
   "outputs": [
    {
     "data": {
      "text/plain": [
       "<Figure size 1440x720 with 0 Axes>"
      ]
     },
     "metadata": {},
     "output_type": "display_data"
    },
    {
     "data": {
      "image/png": "[encoded data removed]",
      "text/plain": [
       "<Figure size 432x288 with 1 Axes>"
      ]
     },
     "metadata": {
      "needs_background": "light"
     },
     "output_type": "display_data"
    },
    {
     "data": {
      "text/plain": [
       "<Figure size 432x288 with 0 Axes>"
      ]
     },
     "metadata": {},
     "output_type": "display_data"
    }
   ],
   "source": [
    "# Create a bar chart of Aircraft Manufacturers vs. Serious Injuries\n",
    "\n",
    "\n",
    "plt.figure(figsize=(20, 10)) \n",
    "\n",
    "fig, ax = plt.subplots()\n",
    "\n",
    "\n",
    "x = top_20_Aircraft_Make\n",
    "y = rounded_top_20_serious_injuries_normalized\n",
    "\n",
    "\n",
    "# Plot the data\n",
    "ax.bar(x, y)\n",
    "\n",
    "bars = ax.bar(x, y)\n",
    "\n",
    "ax.set_title('Number of Serious Injuries per Aircraft Manufacturer Record')\n",
    "#ax.set_xlabel('Aircraft Make')\n",
    "#ax.set_ylabel('Serious Injuries per Aircraft Manufacturer Record')\n",
    "\n",
    "# Set the tick positions\n",
    "ax.set_xticks(range(len(x)))\n",
    "\n",
    "# Rotate x-axis labels\n",
    "ax.set_xticklabels(x, rotation=90)\n",
    "\n",
    "# Increase font size of x-axis labels\n",
    "ax.tick_params(axis='x', labelsize=10)\n",
    "\n",
    "# Adjust width of bar chart\n",
    "plt.subplots_adjust(left=0.2, right=2)\n",
    "\n",
    "# Show the numerical values for each Aircraft Manufacturer\n",
    "for bar in bars:\n",
    "    height = bar.get_height()\n",
    "    ax.text(bar.get_x() + bar.get_width() / 2, height, height, ha='center', va='bottom')\n",
    "\n",
    "plt.show()\n",
    "\n",
    "# Creating an image of the following bar chart - \"Number of Serious Injuries per Aircraft Manufacturer Record\"\n",
    "\n",
    "#plt.savefig(\"serious_injuries.jpg\")"
   ]
  },
  {
   "cell_type": "markdown",
   "metadata": {},
   "source": [
    "## 2) Recommendations for Aircraft Manufacturers based upon Serious Injuries per Aircraft Manufacturer Record\n",
    "\n",
    "Based on the bar chart - Maule (0.11), Air Tractor (0.12), Grumman (0.14), Champion (0.17), Luscombe (0.17) - have the lowest number of serious injuries per Aircraft Manufacturer Record.\n",
    "\n",
    "However, Champion and Luscomber are no longer in existence.\n",
    "\n",
    "Champion (0.17) was purchased by Bellanca - https://en.wikipedia.org/wiki/Champion_Aircraft\n",
    "\n",
    "Luscombe (0.17) is no longer in existence - https://en.wikipedia.org/wiki/Luscombe_Aircraft\n",
    "\n",
    "Robinson (0.18) is also a helicopter company, not an airplane enterprise - https://www.robinsonheli.com/ \n",
    "\n",
    "My recommendation for Aircraft Manufactures are the following: Maule (0.11), Air Tractor (0.12), Grumman (0.14), Cessna (0.18), and a tie between Mooney (0.19) and Bellanca (0.19)."
   ]
  },
  {
   "cell_type": "code",
   "execution_count": 84,
   "metadata": {},
   "outputs": [],
   "source": [
    "# Calculating the total number of Minor Injuries for the Aircraft Manufacturers with the Top 20 Value Counts\n",
    "\n",
    "top_20_minor_injuries = []\n",
    "\n",
    "for make in top_20_Aircraft_Make:\n",
    "    total_minor_injuries = (df.loc[df['Make'] == make, 'Total.Minor.Injuries']).sum(skipna=True, numeric_only=False)\n",
    "    top_20_minor_injuries.append(total_minor_injuries)"
   ]
  },
  {
   "cell_type": "code",
   "execution_count": 85,
   "metadata": {},
   "outputs": [
    {
     "name": "stdout",
     "output_type": "stream",
     "text": [
      "[6876.0, 3757.0, 1341.0, 2761.0, 1122.0, 368.0, 391.0, 320.0, 239.0, 344.0, 131.0, 1711.0, 148.0, 168.0, 98.0, 222.0, 128.0, 493.0, 99.0, 97.0]\n"
     ]
    },
    {
     "data": {
      "text/plain": [
       "20"
      ]
     },
     "execution_count": 85,
     "metadata": {},
     "output_type": "execute_result"
    }
   ],
   "source": [
    "# Examining what the data looks like in the following list - top_20_minor_injuries\n",
    "\n",
    "print(top_20_minor_injuries)\n",
    "len(top_20_minor_injuries)"
   ]
  },
  {
   "cell_type": "code",
   "execution_count": 86,
   "metadata": {},
   "outputs": [],
   "source": [
    "# Normalizing the data by dividing total minor injuries by Aircraft Manufacturer value count via numpy\n",
    "\n",
    "top_20_minor_injuries_normalized = np.divide(top_20_minor_injuries, top_20_Aircraft_Make_value_count)"
   ]
  },
  {
   "cell_type": "code",
   "execution_count": 87,
   "metadata": {},
   "outputs": [
    {
     "name": "stdout",
     "output_type": "stream",
     "text": [
      "[0.253269   0.25265636 0.2496277  1.00582878 0.41219691 0.26361032\n",
      " 0.29310345 0.2601626  0.22870813 0.36909871 0.14427313 1.99185099\n",
      " 0.19146184 0.26415094 0.1663837  0.46934461 0.29157175 1.13856813\n",
      " 0.23130841 0.23429952]\n"
     ]
    },
    {
     "data": {
      "text/plain": [
       "20"
      ]
     },
     "execution_count": 87,
     "metadata": {},
     "output_type": "execute_result"
    }
   ],
   "source": [
    "# Checking to see what the normalized data looks like and the length of the 'top_20_minor_injuries_normalized' list\n",
    "\n",
    "print(top_20_minor_injuries_normalized)\n",
    "\n",
    "len(top_20_minor_injuries_normalized)"
   ]
  },
  {
   "cell_type": "code",
   "execution_count": 88,
   "metadata": {},
   "outputs": [
    {
     "name": "stdout",
     "output_type": "stream",
     "text": [
      "[0.25, 0.25, 0.25, 1.01, 0.41, 0.26, 0.29, 0.26, 0.23, 0.37, 0.14, 1.99, 0.19, 0.26, 0.17, 0.47, 0.29, 1.14, 0.23, 0.23]\n"
     ]
    }
   ],
   "source": [
    "# I am going to minimize the number of decimals being printed\n",
    "\n",
    "rounded_top_20_minor_injuries_normalized = [round(value, 2) for value in top_20_minor_injuries_normalized]\n",
    "\n",
    "print(rounded_top_20_minor_injuries_normalized)"
   ]
  },
  {
   "cell_type": "code",
   "execution_count": 89,
   "metadata": {},
   "outputs": [
    {
     "data": {
      "text/plain": [
       "<Figure size 1440x720 with 0 Axes>"
      ]
     },
     "metadata": {},
     "output_type": "display_data"
    },
    {
     "data": {
      "image/png": "[encoded data removed]",
      "text/plain": [
       "<Figure size 432x288 with 1 Axes>"
      ]
     },
     "metadata": {
      "needs_background": "light"
     },
     "output_type": "display_data"
    },
    {
     "data": {
      "text/plain": [
       "<Figure size 432x288 with 0 Axes>"
      ]
     },
     "metadata": {},
     "output_type": "display_data"
    }
   ],
   "source": [
    "# Create a bar chart of Aircraft Manufacturers vs. Minor Injuries\n",
    "\n",
    "\n",
    "plt.figure(figsize=(20, 10)) \n",
    "\n",
    "fig, ax = plt.subplots()\n",
    "\n",
    "\n",
    "x = top_20_Aircraft_Make\n",
    "y = rounded_top_20_minor_injuries_normalized\n",
    "\n",
    "\n",
    "# Plot the data\n",
    "ax.bar(x, y)\n",
    "\n",
    "bars = ax.bar(x, y)\n",
    "\n",
    "ax.set_title('Number of Minor Injuries per Aircraft Manufacturer Record')\n",
    "#ax.set_xlabel('Aircraft Make')\n",
    "#ax.set_ylabel('Serious Injuries per Aircraft Manufacturer Record')\n",
    "\n",
    "# Set the tick positions\n",
    "ax.set_xticks(range(len(x)))\n",
    "\n",
    "# Rotate x-axis labels\n",
    "ax.set_xticklabels(x, rotation=90)\n",
    "\n",
    "# Increase font size of x-axis labels\n",
    "ax.tick_params(axis='x', labelsize=10)\n",
    "\n",
    "# Adjust width of bar chart\n",
    "plt.subplots_adjust(left=0.2, right=2)\n",
    "\n",
    "# Show the numerical values for each Aircraft Manufacturer\n",
    "for bar in bars:\n",
    "    height = bar.get_height()\n",
    "    ax.text(bar.get_x() + bar.get_width() / 2, height, height, ha='center', va='bottom')\n",
    "\n",
    "plt.show()\n",
    "\n",
    "# Creating an image of the following bar chart - \"Number of Minor Injuries per Aircraft Manufacturer Record\"\n",
    "\n",
    "#plt.savefig(\"minor_injuries.jpg\")"
   ]
  },
  {
   "cell_type": "markdown",
   "metadata": {},
   "source": [
    "## 3) Recommendations for Aircraft Manufacturers based upon Minor Injuries per Aircraft Manufacturer Record\n",
    "\n",
    "Based on the bar chart - Air Tractor (0.14); Maule (0.17); Schweizer (0.19); three-way tie between Bellanca (0.23), Champion (0.23), and Luscombe (0.23), and a three-way tie beween Cessna (0.25), Piper (0.25), and Beech (0.25).\n",
    "\n",
    "However, Schweizer, Champion, Luscombe are no longer in existence.\n",
    "\n",
    "Schweizer (0.19) is no longer in existence - https://en.wikipedia.org/wiki/Schweizer_Aircraft\n",
    "\n",
    "Champion (0.23) was purchased by Bellanca - https://en.wikipedia.org/wiki/Champion_Aircraft \n",
    "\n",
    "Luscombe (0.23) is no longer in existence - https://en.wikipedia.org/wiki/Luscombe_Aircraft\n",
    "\n",
    "Robinson (0.26) is a helicopter company, not an airplane enterprise - https://www.robinsonheli.com/.\n",
    "\n",
    "My recommendation for Aircraft Manufactures are the following: Air Tractor (0.14); Maule (0.17), Bellanca (0.23); a three-way tie beween Cessna (0.25), Piper (0.25), and Beech (0.25); and a two-way tie between Grumman (0.26) and Aeronca (0.26)."
   ]
  },
  {
   "cell_type": "markdown",
   "metadata": {},
   "source": [
    "# Conclusion\n",
    "\n",
    "I idenified the Aircraft Manufacturers with the top 20 most records in the Aviation Data file.  Next, I examined the following - Number of Fatalities per Aircraft Manufacturer Record, Number of Serious Injuries per Aircraft Manufacturer Record, and Number of Minor Injuries per Aircraft Manufacturer Record.\n",
    "\n",
    "1. Regarding Number of Fatalities per Aircraft Manufacturer Record, I recommend the following Aircraft Manufacturers: Air Tractor (0.18), Aeronca (0.19), Maule (0.19), Grumman (0.26) and Bellanca (0.33).\n",
    "\n",
    "\n",
    "2. Regarding Number of Serious Injuries per Aircraft Manufacturer Record, I recommend the following Aircraft Manufacturers: Maule (0.11), Air Tractor (0.12), Grumman (0.14), Cessna (0.18), and a tie between Mooney (0.19) and Bellanca (0.19).\n",
    "\n",
    "\n",
    "3. Regarding Number of Minor Injuries per Aircraft Manufacturer Record, I recommend the following Aircraft Manufacturers: Air Tractor (0.14); Maule (0.17), Bellanca (0.23); a three-way tie beween Cessna (0.25), Piper (0.25), and Beech (0.25); and a two-way tie between Grumman (0.26) and Aeronca (0.26)."
   ]
  },
  {
   "cell_type": "markdown",
   "metadata": {},
   "source": [
    "# Next Steps\n",
    "\n",
    "Next Steps will consist of the following three items.\n",
    "\n",
    "1. Aircraft Models\n",
    "\n",
    "- Within the recommended Aircraft Manufacturers, identify the aircraft models that produce the following: a) least amount of fatalities per accident record; b) least amount of serious injuries per accident record; and c) least amount of minor injuries per accident record.\n",
    "\n",
    "2. Airbus\n",
    "\n",
    "- Identify any Airbus models that have safety records in line with recommended aircraft manufacturers\n",
    "\n",
    "3. Safety\n",
    "\n",
    "- Identify factors that negatively impact the safety of a flight\n",
    "\n"
   ]
  }
 ],
 "metadata": {
  "kernelspec": {
   "display_name": "Python (learn-env)",
   "language": "python",
   "name": "learn-env"
  },
  "language_info": {
   "codemirror_mode": {
    "name": "ipython",
    "version": 3
   },
   "file_extension": ".py",
   "mimetype": "text/x-python",
   "name": "python",
   "nbconvert_exporter": "python",
   "pygments_lexer": "ipython3",
   "version": "3.8.5"
  }
 },
 "nbformat": 4,
 "nbformat_minor": 4
}
